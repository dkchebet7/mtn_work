{
  "nbformat": 4,
  "nbformat_minor": 0,
  "metadata": {
    "colab": {
      "name": "MTN_Python_Analysis",
      "version": "0.3.2",
      "provenance": [],
      "collapsed_sections": [],
      "include_colab_link": true
    },
    "kernelspec": {
      "name": "python3",
      "display_name": "Python 3"
    },
    "accelerator": "GPU"
  },
  "cells": [
    {
      "cell_type": "markdown",
      "metadata": {
        "id": "view-in-github",
        "colab_type": "text"
      },
      "source": [
        "<a href=\"https://colab.research.google.com/github/dkchebet7/mtn_work/blob/master/MTN_Python_Analysis.ipynb\" target=\"_parent\"><img src=\"https://colab.research.google.com/assets/colab-badge.svg\" alt=\"Open In Colab\"/></a>"
      ]
    },
    {
      "cell_type": "code",
      "metadata": {
        "id": "8M8RNMeHgfAF",
        "colab_type": "code",
        "colab": {}
      },
      "source": [
        "# Importing libraries\n",
        "import pandas as pd\n",
        "import numpy as np"
      ],
      "execution_count": 0,
      "outputs": []
    },
    {
      "cell_type": "code",
      "metadata": {
        "id": "D216KVrpZbVZ",
        "colab_type": "code",
        "colab": {}
      },
      "source": [
        "# Loadind telecom dataset1 file whcih is the day one data set.\n",
        "\n",
        "df = pd.read_csv('http://bit.ly/TelecomDataset1')"
      ],
      "execution_count": 0,
      "outputs": []
    },
    {
      "cell_type": "code",
      "metadata": {
        "id": "qQlaoYabdCPb",
        "colab_type": "code",
        "outputId": "cf1ae17a-7309-415e-a4cb-61bc00b9072a",
        "colab": {
          "base_uri": "https://localhost:8080/",
          "height": 195
        }
      },
      "source": [
        "# Displaying the first rows of the dataset\n",
        "df.head()"
      ],
      "execution_count": 0,
      "outputs": [
        {
          "output_type": "execute_result",
          "data": {
            "text/html": [
              "<div>\n",
              "<style scoped>\n",
              "    .dataframe tbody tr th:only-of-type {\n",
              "        vertical-align: middle;\n",
              "    }\n",
              "\n",
              "    .dataframe tbody tr th {\n",
              "        vertical-align: top;\n",
              "    }\n",
              "\n",
              "    .dataframe thead th {\n",
              "        text-align: right;\n",
              "    }\n",
              "</style>\n",
              "<table border=\"1\" class=\"dataframe\">\n",
              "  <thead>\n",
              "    <tr style=\"text-align: right;\">\n",
              "      <th></th>\n",
              "      <th>PRODUTC</th>\n",
              "      <th>VALUE</th>\n",
              "      <th>DATETIME</th>\n",
              "      <th>CELL_ON_SITE</th>\n",
              "      <th>DW_A_NUMBER_INT</th>\n",
              "      <th>DW_B_NUMBER_INT</th>\n",
              "      <th>COUNTRY_A</th>\n",
              "      <th>COUNTRY_B</th>\n",
              "      <th>CELL_ID</th>\n",
              "      <th>SITE_ID</th>\n",
              "    </tr>\n",
              "  </thead>\n",
              "  <tbody>\n",
              "    <tr>\n",
              "      <th>0</th>\n",
              "      <td>Voice</td>\n",
              "      <td>0</td>\n",
              "      <td>2012-05-06 23:04:37.0</td>\n",
              "      <td>1</td>\n",
              "      <td>49fae048b547780</td>\n",
              "      <td>1a49f8b0ded9de6</td>\n",
              "      <td>19e2e</td>\n",
              "      <td>19e2e</td>\n",
              "      <td>/TJNe+Mmtu</td>\n",
              "      <td>/TJNe+Mmtu</td>\n",
              "    </tr>\n",
              "    <tr>\n",
              "      <th>1</th>\n",
              "      <td>sms</td>\n",
              "      <td>0</td>\n",
              "      <td>2012-05-06 23:05:25.0</td>\n",
              "      <td>0</td>\n",
              "      <td>7a54a6eaee19e65</td>\n",
              "      <td>93343ba6e41af95</td>\n",
              "      <td>19e2e</td>\n",
              "      <td>19e2e</td>\n",
              "      <td>/+cKZKIp41</td>\n",
              "      <td>/+cKZKIp41</td>\n",
              "    </tr>\n",
              "    <tr>\n",
              "      <th>2</th>\n",
              "      <td>sms</td>\n",
              "      <td>25</td>\n",
              "      <td>2012-05-06 23:05:41.0</td>\n",
              "      <td>0</td>\n",
              "      <td>6008887b0207d82</td>\n",
              "      <td>7aacc9709ce0a20</td>\n",
              "      <td>19e2e</td>\n",
              "      <td>19e2e</td>\n",
              "      <td>/u0FSD+ahi</td>\n",
              "      <td>/u0FSD+ahi</td>\n",
              "    </tr>\n",
              "    <tr>\n",
              "      <th>3</th>\n",
              "      <td>Voice</td>\n",
              "      <td>56</td>\n",
              "      <td>2012-05-06 23:05:42.0</td>\n",
              "      <td>1</td>\n",
              "      <td>7370032e20f4e96</td>\n",
              "      <td>6af4a60e74c91d3</td>\n",
              "      <td>19e2e</td>\n",
              "      <td>19e2e</td>\n",
              "      <td>+cNeJzsTp3</td>\n",
              "      <td>+cNeJzsTp3</td>\n",
              "    </tr>\n",
              "    <tr>\n",
              "      <th>4</th>\n",
              "      <td>Voice</td>\n",
              "      <td>14</td>\n",
              "      <td>2012-05-06 23:06:29.0</td>\n",
              "      <td>1</td>\n",
              "      <td>966ba4656e38e62</td>\n",
              "      <td>02aa736ee555d5c</td>\n",
              "      <td>19e2e</td>\n",
              "      <td>19e2e</td>\n",
              "      <td>051KhYDCpv</td>\n",
              "      <td>051KhYDCpv</td>\n",
              "    </tr>\n",
              "  </tbody>\n",
              "</table>\n",
              "</div>"
            ],
            "text/plain": [
              "  PRODUTC  VALUE               DATETIME  ... COUNTRY_B     CELL_ID     SITE_ID\n",
              "0   Voice      0  2012-05-06 23:04:37.0  ...     19e2e  /TJNe+Mmtu  /TJNe+Mmtu\n",
              "1     sms      0  2012-05-06 23:05:25.0  ...     19e2e  /+cKZKIp41  /+cKZKIp41\n",
              "2     sms     25  2012-05-06 23:05:41.0  ...     19e2e  /u0FSD+ahi  /u0FSD+ahi\n",
              "3   Voice     56  2012-05-06 23:05:42.0  ...     19e2e  +cNeJzsTp3  +cNeJzsTp3\n",
              "4   Voice     14  2012-05-06 23:06:29.0  ...     19e2e  051KhYDCpv  051KhYDCpv\n",
              "\n",
              "[5 rows x 10 columns]"
            ]
          },
          "metadata": {
            "tags": []
          },
          "execution_count": 5
        }
      ]
    },
    {
      "cell_type": "code",
      "metadata": {
        "id": "8VCMujWdjYsJ",
        "colab_type": "code",
        "outputId": "9578e045-3e3e-4620-ef37-37845b17db13",
        "colab": {
          "base_uri": "https://localhost:8080/",
          "height": 269
        }
      },
      "source": [
        "# Checking the information for the day one dataset\n",
        "df.info()"
      ],
      "execution_count": 0,
      "outputs": [
        {
          "output_type": "stream",
          "text": [
            "<class 'pandas.core.frame.DataFrame'>\n",
            "RangeIndex: 15011816 entries, 0 to 15011815\n",
            "Data columns (total 10 columns):\n",
            "product            object\n",
            "value              int64\n",
            "datetime           object\n",
            "cell_on_site       object\n",
            "dw_a_number_int    object\n",
            "dw_b_number_int    object\n",
            "country_a          object\n",
            "country_b          object\n",
            "cell_id            object\n",
            "site_id            object\n",
            "dtypes: int64(1), object(9)\n",
            "memory usage: 1.1+ GB\n"
          ],
          "name": "stdout"
        }
      ]
    },
    {
      "cell_type": "code",
      "metadata": {
        "id": "xUmBJS61oMcJ",
        "colab_type": "code",
        "outputId": "05c691c8-9a18-4e4c-e828-b796549a7ef6",
        "colab": {
          "base_uri": "https://localhost:8080/",
          "height": 67
        }
      },
      "source": [
        "# changing columns of dataset 1 to lower case\n",
        "\n",
        "# renaming some column names of dataset 1 to column names we can easily work with\n",
        "\n",
        "\n",
        "df.columns = map(str.lower, df.columns)\n",
        "\n",
        "columns = ['product', 'value', 'datetime', 'cell_on_site', 'dw_a_number_int','dw_b_number_int', 'country_a', 'country_b', 'cell_id', 'site_id']\n",
        "\n",
        "df.columns = columns\n",
        "\n",
        "df.columns"
      ],
      "execution_count": 0,
      "outputs": [
        {
          "output_type": "execute_result",
          "data": {
            "text/plain": [
              "Index(['product', 'value', 'datetime', 'cell_on_site', 'dw_a_number_int',\n",
              "       'dw_b_number_int', 'country_a', 'country_b', 'cell_id', 'site_id'],\n",
              "      dtype='object')"
            ]
          },
          "metadata": {
            "tags": []
          },
          "execution_count": 6
        }
      ]
    },
    {
      "cell_type": "code",
      "metadata": {
        "id": "oRG6jadtaU8y",
        "colab_type": "code",
        "colab": {}
      },
      "source": [
        "# loading the telecom dataset 2 file which is for day 2\n",
        "\n",
        "df2 = pd.read_csv('http://bit.ly/TelecomDataset2')"
      ],
      "execution_count": 0,
      "outputs": []
    },
    {
      "cell_type": "code",
      "metadata": {
        "id": "mkgdwes-kmBm",
        "colab_type": "code",
        "outputId": "edaa2550-bbaf-470e-cab7-0f12eb1b52ec",
        "colab": {
          "base_uri": "https://localhost:8080/",
          "height": 195
        }
      },
      "source": [
        "# Show the first rows of dataset 2\n",
        "\n",
        "df2.head()"
      ],
      "execution_count": 0,
      "outputs": [
        {
          "output_type": "execute_result",
          "data": {
            "text/html": [
              "<div>\n",
              "<style scoped>\n",
              "    .dataframe tbody tr th:only-of-type {\n",
              "        vertical-align: middle;\n",
              "    }\n",
              "\n",
              "    .dataframe tbody tr th {\n",
              "        vertical-align: top;\n",
              "    }\n",
              "\n",
              "    .dataframe thead th {\n",
              "        text-align: right;\n",
              "    }\n",
              "</style>\n",
              "<table border=\"1\" class=\"dataframe\">\n",
              "  <thead>\n",
              "    <tr style=\"text-align: right;\">\n",
              "      <th></th>\n",
              "      <th>product</th>\n",
              "      <th>value</th>\n",
              "      <th>datetime</th>\n",
              "      <th>cell_on_site</th>\n",
              "      <th>dw_a_number_int</th>\n",
              "      <th>dw_b_number_int</th>\n",
              "      <th>country_a</th>\n",
              "      <th>country_b</th>\n",
              "      <th>cell_id</th>\n",
              "      <th>site_id</th>\n",
              "    </tr>\n",
              "  </thead>\n",
              "  <tbody>\n",
              "    <tr>\n",
              "      <th>0</th>\n",
              "      <td>sms</td>\n",
              "      <td>0</td>\n",
              "      <td>2012-05-07 23:02:06.0</td>\n",
              "      <td>2</td>\n",
              "      <td>32255675c3b6fe3</td>\n",
              "      <td>1aa7ae01386e9fb</td>\n",
              "      <td>19e2e</td>\n",
              "      <td>19e2e</td>\n",
              "      <td>+854AcBQT2</td>\n",
              "      <td>+854AcBQT2</td>\n",
              "    </tr>\n",
              "    <tr>\n",
              "      <th>1</th>\n",
              "      <td>Voice</td>\n",
              "      <td>0</td>\n",
              "      <td>2012-05-07 23:03:44.0</td>\n",
              "      <td>1</td>\n",
              "      <td>ff16d6ac74c1c64</td>\n",
              "      <td>87d87309c15a8c9</td>\n",
              "      <td>19e2e</td>\n",
              "      <td>19e2e</td>\n",
              "      <td>+854AcBQT2</td>\n",
              "      <td>+854AcBQT2</td>\n",
              "    </tr>\n",
              "    <tr>\n",
              "      <th>2</th>\n",
              "      <td>sms</td>\n",
              "      <td>0</td>\n",
              "      <td>2012-05-07 23:04:06.0</td>\n",
              "      <td>0</td>\n",
              "      <td>98d9f2fb5ff624b</td>\n",
              "      <td>93343ba6e41af95</td>\n",
              "      <td>19e2e</td>\n",
              "      <td>19e2e</td>\n",
              "      <td>+laSrk7g6q</td>\n",
              "      <td>+laSrk7g6q</td>\n",
              "    </tr>\n",
              "    <tr>\n",
              "      <th>3</th>\n",
              "      <td>Voice</td>\n",
              "      <td>37</td>\n",
              "      <td>2012-05-07 23:04:48.0</td>\n",
              "      <td>1</td>\n",
              "      <td>3f9c8a33ec7be1f</td>\n",
              "      <td>7d05a38f89c49d8</td>\n",
              "      <td>19e2e</td>\n",
              "      <td>19e2e</td>\n",
              "      <td>/xvRrCVKoQ</td>\n",
              "      <td>/xvRrCVKoQ</td>\n",
              "    </tr>\n",
              "    <tr>\n",
              "      <th>4</th>\n",
              "      <td>sms</td>\n",
              "      <td>25</td>\n",
              "      <td>2012-05-07 23:04:58.0</td>\n",
              "      <td>1</td>\n",
              "      <td>7bcccc03adf3864</td>\n",
              "      <td>56a5d5430d2fa86</td>\n",
              "      <td>19e2e</td>\n",
              "      <td>19e2e</td>\n",
              "      <td>+bO+qkSonO</td>\n",
              "      <td>+bO+qkSonO</td>\n",
              "    </tr>\n",
              "  </tbody>\n",
              "</table>\n",
              "</div>"
            ],
            "text/plain": [
              "  product  value               datetime  ... country_b     cell_id     site_id\n",
              "0     sms      0  2012-05-07 23:02:06.0  ...     19e2e  +854AcBQT2  +854AcBQT2\n",
              "1   Voice      0  2012-05-07 23:03:44.0  ...     19e2e  +854AcBQT2  +854AcBQT2\n",
              "2     sms      0  2012-05-07 23:04:06.0  ...     19e2e  +laSrk7g6q  +laSrk7g6q\n",
              "3   Voice     37  2012-05-07 23:04:48.0  ...     19e2e  /xvRrCVKoQ  /xvRrCVKoQ\n",
              "4     sms     25  2012-05-07 23:04:58.0  ...     19e2e  +bO+qkSonO  +bO+qkSonO\n",
              "\n",
              "[5 rows x 10 columns]"
            ]
          },
          "metadata": {
            "tags": []
          },
          "execution_count": 46
        }
      ]
    },
    {
      "cell_type": "code",
      "metadata": {
        "id": "JipMYEI7kxab",
        "colab_type": "code",
        "outputId": "6791df16-75fe-4926-d516-0ae310da7372",
        "colab": {
          "base_uri": "https://localhost:8080/",
          "height": 269
        }
      },
      "source": [
        "# Checking the information of dataset 2\n",
        "\n",
        "df2.info()"
      ],
      "execution_count": 0,
      "outputs": [
        {
          "output_type": "stream",
          "text": [
            "<class 'pandas.core.frame.DataFrame'>\n",
            "RangeIndex: 19606112 entries, 0 to 19606111\n",
            "Data columns (total 10 columns):\n",
            "product            object\n",
            "value              int64\n",
            "datetime           object\n",
            "cell_on_site       object\n",
            "dw_a_number_int    object\n",
            "dw_b_number_int    object\n",
            "country_a          object\n",
            "country_b          object\n",
            "cell_id            object\n",
            "site_id            object\n",
            "dtypes: int64(1), object(9)\n",
            "memory usage: 1.5+ GB\n"
          ],
          "name": "stdout"
        }
      ]
    },
    {
      "cell_type": "code",
      "metadata": {
        "id": "1DZk5bscoRgp",
        "colab_type": "code",
        "outputId": "2f0b89ce-c3e3-4932-e72f-24e09919e2b8",
        "colab": {
          "base_uri": "https://localhost:8080/",
          "height": 67
        }
      },
      "source": [
        "# changing columns of dataset 2 to lower case\n",
        "\n",
        "# renaming some column names of dataset 2 to workable column names\n",
        "\n",
        "df2.columns = map(str.lower, df.columns)\n",
        "\n",
        "columns = ['product', 'value', 'datetime', 'cell_on_site', 'dw_a_number_int','dw_b_number_int', 'country_a', 'country_b', 'cell_id', 'site_id']\n",
        "\n",
        "df2.columns = columns\n",
        "\n",
        "df2.columns"
      ],
      "execution_count": 0,
      "outputs": [
        {
          "output_type": "execute_result",
          "data": {
            "text/plain": [
              "Index(['product', 'value', 'datetime', 'cell_on_site', 'dw_a_number_int',\n",
              "       'dw_b_number_int', 'country_a', 'country_b', 'cell_id', 'site_id'],\n",
              "      dtype='object')"
            ]
          },
          "metadata": {
            "tags": []
          },
          "execution_count": 9
        }
      ]
    },
    {
      "cell_type": "code",
      "metadata": {
        "id": "OTs0xu6CeN6M",
        "colab_type": "code",
        "colab": {}
      },
      "source": [
        "#Loading the third dataset which is for day 3\n",
        "\n",
        "df3 = pd.read_csv('http://bit.ly/TelecomDataset3')"
      ],
      "execution_count": 0,
      "outputs": []
    },
    {
      "cell_type": "code",
      "metadata": {
        "id": "gAwBjhNLlGJu",
        "colab_type": "code",
        "outputId": "05270c9b-509e-4a52-ebce-38088a4cee21",
        "colab": {
          "base_uri": "https://localhost:8080/",
          "height": 195
        }
      },
      "source": [
        "# displaying the first rows of dataset 3\n",
        "\n",
        "df3.head()"
      ],
      "execution_count": 0,
      "outputs": [
        {
          "output_type": "execute_result",
          "data": {
            "text/html": [
              "<div>\n",
              "<style scoped>\n",
              "    .dataframe tbody tr th:only-of-type {\n",
              "        vertical-align: middle;\n",
              "    }\n",
              "\n",
              "    .dataframe tbody tr th {\n",
              "        vertical-align: top;\n",
              "    }\n",
              "\n",
              "    .dataframe thead th {\n",
              "        text-align: right;\n",
              "    }\n",
              "</style>\n",
              "<table border=\"1\" class=\"dataframe\">\n",
              "  <thead>\n",
              "    <tr style=\"text-align: right;\">\n",
              "      <th></th>\n",
              "      <th>product</th>\n",
              "      <th>value</th>\n",
              "      <th>datetime</th>\n",
              "      <th>cell_on_site</th>\n",
              "      <th>dw_a_number_int</th>\n",
              "      <th>dw_b_number_int</th>\n",
              "      <th>country_a</th>\n",
              "      <th>country_b</th>\n",
              "      <th>cell_id</th>\n",
              "      <th>site_id</th>\n",
              "    </tr>\n",
              "  </thead>\n",
              "  <tbody>\n",
              "    <tr>\n",
              "      <th>0</th>\n",
              "      <td>Voice</td>\n",
              "      <td>61</td>\n",
              "      <td>2012-05-08 23:01:28.0</td>\n",
              "      <td>2</td>\n",
              "      <td>966f68353622feb</td>\n",
              "      <td>ffd53a3bb2db6f1</td>\n",
              "      <td>19e2e</td>\n",
              "      <td>19e2e</td>\n",
              "      <td>+38u2u/rfx</td>\n",
              "      <td>+38u2u/rfx</td>\n",
              "    </tr>\n",
              "    <tr>\n",
              "      <th>1</th>\n",
              "      <td>sms</td>\n",
              "      <td>0</td>\n",
              "      <td>2012-05-08 23:01:31.0</td>\n",
              "      <td>1</td>\n",
              "      <td>a0a597384c612d7</td>\n",
              "      <td>cf3b218f1dde792</td>\n",
              "      <td>19e2e</td>\n",
              "      <td>19e2e</td>\n",
              "      <td>+Fs4mTvdKx</td>\n",
              "      <td>+Fs4mTvdKx</td>\n",
              "    </tr>\n",
              "    <tr>\n",
              "      <th>2</th>\n",
              "      <td>Voice</td>\n",
              "      <td>10</td>\n",
              "      <td>2012-05-08 23:02:59.0</td>\n",
              "      <td>1</td>\n",
              "      <td>5441a9a58c97132</td>\n",
              "      <td>52f8b299515b9b7</td>\n",
              "      <td>19e2e</td>\n",
              "      <td>19e2e</td>\n",
              "      <td>+ZaaZozy/+</td>\n",
              "      <td>+ZaaZozy/+</td>\n",
              "    </tr>\n",
              "    <tr>\n",
              "      <th>3</th>\n",
              "      <td>sms</td>\n",
              "      <td>0</td>\n",
              "      <td>2012-05-08 23:03:04.0</td>\n",
              "      <td>0</td>\n",
              "      <td>8ab8b9ed6989f61</td>\n",
              "      <td>e09e736e46c5c3d</td>\n",
              "      <td>19e2e</td>\n",
              "      <td>19e2e</td>\n",
              "      <td>+cNeJzsTp3</td>\n",
              "      <td>+cNeJzsTp3</td>\n",
              "    </tr>\n",
              "    <tr>\n",
              "      <th>4</th>\n",
              "      <td>Voice</td>\n",
              "      <td>22</td>\n",
              "      <td>2012-05-08 23:03:16.0</td>\n",
              "      <td>4</td>\n",
              "      <td>52662a62b199334</td>\n",
              "      <td>2186273faab4602</td>\n",
              "      <td>19e2e</td>\n",
              "      <td>19e2e</td>\n",
              "      <td>/eeMklgyJA</td>\n",
              "      <td>/eeMklgyJA</td>\n",
              "    </tr>\n",
              "  </tbody>\n",
              "</table>\n",
              "</div>"
            ],
            "text/plain": [
              "  product  value               datetime  ... country_b     cell_id     site_id\n",
              "0   Voice     61  2012-05-08 23:01:28.0  ...     19e2e  +38u2u/rfx  +38u2u/rfx\n",
              "1     sms      0  2012-05-08 23:01:31.0  ...     19e2e  +Fs4mTvdKx  +Fs4mTvdKx\n",
              "2   Voice     10  2012-05-08 23:02:59.0  ...     19e2e  +ZaaZozy/+  +ZaaZozy/+\n",
              "3     sms      0  2012-05-08 23:03:04.0  ...     19e2e  +cNeJzsTp3  +cNeJzsTp3\n",
              "4   Voice     22  2012-05-08 23:03:16.0  ...     19e2e  /eeMklgyJA  /eeMklgyJA\n",
              "\n",
              "[5 rows x 10 columns]"
            ]
          },
          "metadata": {
            "tags": []
          },
          "execution_count": 52
        }
      ]
    },
    {
      "cell_type": "code",
      "metadata": {
        "id": "s6oC3no2lV1d",
        "colab_type": "code",
        "outputId": "11447163-be74-46ae-9ccb-e8a8e0907891",
        "colab": {
          "base_uri": "https://localhost:8080/",
          "height": 269
        }
      },
      "source": [
        "# Checking the information of dataset 3\n",
        "\n",
        "df3.info()"
      ],
      "execution_count": 0,
      "outputs": [
        {
          "output_type": "stream",
          "text": [
            "<class 'pandas.core.frame.DataFrame'>\n",
            "RangeIndex: 14834801 entries, 0 to 14834800\n",
            "Data columns (total 10 columns):\n",
            "product            object\n",
            "value              int64\n",
            "datetime           object\n",
            "cell_on_site       object\n",
            "dw_a_number_int    object\n",
            "dw_b_number_int    object\n",
            "country_a          object\n",
            "country_b          object\n",
            "cell_id            object\n",
            "site_id            object\n",
            "dtypes: int64(1), object(9)\n",
            "memory usage: 1.1+ GB\n"
          ],
          "name": "stdout"
        }
      ]
    },
    {
      "cell_type": "code",
      "metadata": {
        "id": "wA-wYJcqoY9x",
        "colab_type": "code",
        "outputId": "c57486c9-3b28-4f8d-f8f1-4e3d90dcf1a7",
        "colab": {
          "base_uri": "https://localhost:8080/",
          "height": 67
        }
      },
      "source": [
        "# changing columns of dataset 3 to lower case\n",
        "\n",
        "# renaming some column names of dataset 3\n",
        "\n",
        "df3.columns = map(str.lower, df.columns)\n",
        "\n",
        "columns = ['product', 'value', 'datetime', 'cell_on_site', 'dw_a_number_int','dw_b_number_int', 'country_a', 'country_b', 'cell_id', 'site_id']\n",
        "\n",
        "df3.columns = columns\n",
        "\n",
        "df3.columns"
      ],
      "execution_count": 0,
      "outputs": [
        {
          "output_type": "execute_result",
          "data": {
            "text/plain": [
              "Index(['product', 'value', 'datetime', 'cell_on_site', 'dw_a_number_int',\n",
              "       'dw_b_number_int', 'country_a', 'country_b', 'cell_id', 'site_id'],\n",
              "      dtype='object')"
            ]
          },
          "metadata": {
            "tags": []
          },
          "execution_count": 12
        }
      ]
    },
    {
      "cell_type": "code",
      "metadata": {
        "id": "bCzg-EDJiIFa",
        "colab_type": "code",
        "outputId": "f331c6af-217d-48b7-c83c-e4d05cb5be1e",
        "colab": {
          "base_uri": "https://localhost:8080/",
          "height": 195
        }
      },
      "source": [
        "# Loading the cells_geo file\n",
        "\n",
        "cells_geo = pd.read_csv('cells_geo.csv', header = 0, index_col=0, delimiter=';')\n",
        "\n",
        "cells_geo.head()"
      ],
      "execution_count": 0,
      "outputs": [
        {
          "output_type": "execute_result",
          "data": {
            "text/html": [
              "<div>\n",
              "<style scoped>\n",
              "    .dataframe tbody tr th:only-of-type {\n",
              "        vertical-align: middle;\n",
              "    }\n",
              "\n",
              "    .dataframe tbody tr th {\n",
              "        vertical-align: top;\n",
              "    }\n",
              "\n",
              "    .dataframe thead th {\n",
              "        text-align: right;\n",
              "    }\n",
              "</style>\n",
              "<table border=\"1\" class=\"dataframe\">\n",
              "  <thead>\n",
              "    <tr style=\"text-align: right;\">\n",
              "      <th></th>\n",
              "      <th>VILLES</th>\n",
              "      <th>STATUS</th>\n",
              "      <th>LOCALISATION</th>\n",
              "      <th>DECOUPZONE</th>\n",
              "      <th>ZONENAME</th>\n",
              "      <th>LONGITUDE</th>\n",
              "      <th>LATITUDE</th>\n",
              "      <th>REGION</th>\n",
              "      <th>AREA</th>\n",
              "      <th>CELL_ID</th>\n",
              "      <th>SITE_CODE</th>\n",
              "    </tr>\n",
              "  </thead>\n",
              "  <tbody>\n",
              "    <tr>\n",
              "      <th>0</th>\n",
              "      <td>ADJAME</td>\n",
              "      <td>In Service</td>\n",
              "      <td>ABIDJAN</td>\n",
              "      <td>\"Abidjan_EST</td>\n",
              "      <td>AGBANNEW</td>\n",
              "      <td>-4.000667</td>\n",
              "      <td>5.368194</td>\n",
              "      <td>LAGUNE</td>\n",
              "      <td>NaN</td>\n",
              "      <td>fbb2e75af3</td>\n",
              "      <td>0bb492ef17</td>\n",
              "    </tr>\n",
              "    <tr>\n",
              "      <th>1</th>\n",
              "      <td>ADJAME</td>\n",
              "      <td>In Service</td>\n",
              "      <td>ABIDJAN</td>\n",
              "      <td>\"Abidjan_EST</td>\n",
              "      <td>AGBANNEW</td>\n",
              "      <td>-4.000667</td>\n",
              "      <td>5.368194</td>\n",
              "      <td>LAGUNE</td>\n",
              "      <td>NaN</td>\n",
              "      <td>1502501d78</td>\n",
              "      <td>0bb492ef17</td>\n",
              "    </tr>\n",
              "    <tr>\n",
              "      <th>2</th>\n",
              "      <td>ADJAME</td>\n",
              "      <td>In Service</td>\n",
              "      <td>ABIDJAN</td>\n",
              "      <td>\"Abidjan_EST</td>\n",
              "      <td>AGBANNEW</td>\n",
              "      <td>-4.000667</td>\n",
              "      <td>5.368194</td>\n",
              "      <td>LAGUNE</td>\n",
              "      <td>NaN</td>\n",
              "      <td>0c2e182a0c</td>\n",
              "      <td>0bb492ef17</td>\n",
              "    </tr>\n",
              "    <tr>\n",
              "      <th>3</th>\n",
              "      <td>ASSINIE</td>\n",
              "      <td>In Service</td>\n",
              "      <td>INTERIEUR</td>\n",
              "      <td>Grand-EST</td>\n",
              "      <td>ASSINIE\"</td>\n",
              "      <td>-3.488467</td>\n",
              "      <td>5.158761</td>\n",
              "      <td>SUD COMOE</td>\n",
              "      <td>NaN</td>\n",
              "      <td>69bdfc69fd</td>\n",
              "      <td>8a1e6ce31f</td>\n",
              "    </tr>\n",
              "    <tr>\n",
              "      <th>4</th>\n",
              "      <td>ASSINIE</td>\n",
              "      <td>In Service</td>\n",
              "      <td>INTERIEUR</td>\n",
              "      <td>Grand-EST</td>\n",
              "      <td>ASSINIE\"</td>\n",
              "      <td>-3.488467</td>\n",
              "      <td>5.158761</td>\n",
              "      <td>SUD COMOE</td>\n",
              "      <td>NaN</td>\n",
              "      <td>7a1029d2ab</td>\n",
              "      <td>8a1e6ce31f</td>\n",
              "    </tr>\n",
              "  </tbody>\n",
              "</table>\n",
              "</div>"
            ],
            "text/plain": [
              "    VILLES      STATUS LOCALISATION  ... AREA     CELL_ID   SITE_CODE\n",
              "0   ADJAME  In Service      ABIDJAN  ...  NaN  fbb2e75af3  0bb492ef17\n",
              "1   ADJAME  In Service      ABIDJAN  ...  NaN  1502501d78  0bb492ef17\n",
              "2   ADJAME  In Service      ABIDJAN  ...  NaN  0c2e182a0c  0bb492ef17\n",
              "3  ASSINIE  In Service    INTERIEUR  ...  NaN  69bdfc69fd  8a1e6ce31f\n",
              "4  ASSINIE  In Service    INTERIEUR  ...  NaN  7a1029d2ab  8a1e6ce31f\n",
              "\n",
              "[5 rows x 11 columns]"
            ]
          },
          "metadata": {
            "tags": []
          },
          "execution_count": 15
        }
      ]
    },
    {
      "cell_type": "code",
      "metadata": {
        "id": "5817Aa4OtjkL",
        "colab_type": "code",
        "outputId": "5a729a60-1ef2-4437-d25d-44e071d5c54f",
        "colab": {
          "base_uri": "https://localhost:8080/",
          "height": 286
        }
      },
      "source": [
        "# Checking the information of cells_geo dataset\n",
        "\n",
        "cells_geo.info()"
      ],
      "execution_count": 0,
      "outputs": [
        {
          "output_type": "stream",
          "text": [
            "<class 'pandas.core.frame.DataFrame'>\n",
            "Int64Index: 3974 entries, 0 to 3973\n",
            "Data columns (total 11 columns):\n",
            "villes          3974 non-null object\n",
            "status          3907 non-null object\n",
            "localisation    3974 non-null object\n",
            "decoupzone      3974 non-null object\n",
            "zonename        3968 non-null object\n",
            "longitude       3974 non-null float64\n",
            "latitude        3974 non-null float64\n",
            "region          3974 non-null object\n",
            "area            3951 non-null object\n",
            "cell_id         3974 non-null object\n",
            "site_code       3974 non-null object\n",
            "dtypes: float64(2), object(9)\n",
            "memory usage: 372.6+ KB\n"
          ],
          "name": "stdout"
        }
      ]
    },
    {
      "cell_type": "code",
      "metadata": {
        "id": "e9CvgiZQkz45",
        "colab_type": "code",
        "outputId": "dfcfd112-6bef-499d-eb0f-dc85510c70ad",
        "colab": {
          "base_uri": "https://localhost:8080/",
          "height": 67
        }
      },
      "source": [
        "# Changing column names of cells_geo to lower case\n",
        "\n",
        "cells_geo.columns = map(str.lower, cells_geo.columns)\n",
        "\n",
        "cells_geo.columns"
      ],
      "execution_count": 0,
      "outputs": [
        {
          "output_type": "execute_result",
          "data": {
            "text/plain": [
              "Index(['villes', 'status', 'localisation', 'decoupzone', 'zonename',\n",
              "       'longitude', 'latitude', 'region', 'area', 'cell_id', 'site_code'],\n",
              "      dtype='object')"
            ]
          },
          "metadata": {
            "tags": []
          },
          "execution_count": 16
        }
      ]
    },
    {
      "cell_type": "code",
      "metadata": {
        "id": "MN-7o1-MkzfM",
        "colab_type": "code",
        "outputId": "1d6bc090-4c78-43e5-c3e3-821d476815d9",
        "colab": {
          "base_uri": "https://localhost:8080/",
          "height": 383
        }
      },
      "source": [
        "# Merging cells_geo onto telecom dataset 1 for the first day using inner join to keep only rows that match in the two data frames.\n",
        "\n",
        "df1_merged = df.merge(cells_geo, how='inner', on='cell_id')\n",
        "\n",
        "df1_merged.head()"
      ],
      "execution_count": 0,
      "outputs": [
        {
          "output_type": "execute_result",
          "data": {
            "text/html": [
              "<div>\n",
              "<style scoped>\n",
              "    .dataframe tbody tr th:only-of-type {\n",
              "        vertical-align: middle;\n",
              "    }\n",
              "\n",
              "    .dataframe tbody tr th {\n",
              "        vertical-align: top;\n",
              "    }\n",
              "\n",
              "    .dataframe thead th {\n",
              "        text-align: right;\n",
              "    }\n",
              "</style>\n",
              "<table border=\"1\" class=\"dataframe\">\n",
              "  <thead>\n",
              "    <tr style=\"text-align: right;\">\n",
              "      <th></th>\n",
              "      <th>product</th>\n",
              "      <th>value</th>\n",
              "      <th>datetime</th>\n",
              "      <th>cell_on_site</th>\n",
              "      <th>dw_a_number_int</th>\n",
              "      <th>dw_b_number_int</th>\n",
              "      <th>country_a</th>\n",
              "      <th>country_b</th>\n",
              "      <th>cell_id</th>\n",
              "      <th>site_id</th>\n",
              "      <th>villes</th>\n",
              "      <th>status</th>\n",
              "      <th>localisation</th>\n",
              "      <th>decoupzone</th>\n",
              "      <th>zonename</th>\n",
              "      <th>longitude</th>\n",
              "      <th>latitude</th>\n",
              "      <th>region</th>\n",
              "      <th>area</th>\n",
              "      <th>site_code</th>\n",
              "    </tr>\n",
              "  </thead>\n",
              "  <tbody>\n",
              "    <tr>\n",
              "      <th>0</th>\n",
              "      <td>Voice</td>\n",
              "      <td>0</td>\n",
              "      <td>2012-05-07 08:33:43.0</td>\n",
              "      <td>0</td>\n",
              "      <td>13d236932ae2bcf</td>\n",
              "      <td>662861c8d47acbb</td>\n",
              "      <td>19e2e</td>\n",
              "      <td>19e2e</td>\n",
              "      <td>1ce5a37ea9</td>\n",
              "      <td>NaN</td>\n",
              "      <td>ATTECOUBE</td>\n",
              "      <td>In Service</td>\n",
              "      <td>ABIDJAN</td>\n",
              "      <td>Abidjan_OUEST</td>\n",
              "      <td>ZONE C - Abidjan_OUEST</td>\n",
              "      <td>-4.035111</td>\n",
              "      <td>5.348917</td>\n",
              "      <td>LAGUNE</td>\n",
              "      <td>ABIDJAN NORTH</td>\n",
              "      <td>7f76d66503</td>\n",
              "    </tr>\n",
              "    <tr>\n",
              "      <th>1</th>\n",
              "      <td>Voice</td>\n",
              "      <td>0</td>\n",
              "      <td>2012-05-07 08:36:17.0</td>\n",
              "      <td>0</td>\n",
              "      <td>704ad46f5623789</td>\n",
              "      <td>8788ee37020a0b3</td>\n",
              "      <td>19e2e</td>\n",
              "      <td>19e2e</td>\n",
              "      <td>24ced8b6ba</td>\n",
              "      <td>NaN</td>\n",
              "      <td>PORT-BOUET</td>\n",
              "      <td>In Service</td>\n",
              "      <td>ABIDJAN</td>\n",
              "      <td>Abidjan_SUD</td>\n",
              "      <td>ZONE D - Abidjan_SUD</td>\n",
              "      <td>-3.945028</td>\n",
              "      <td>5.254056</td>\n",
              "      <td>LAGUNE</td>\n",
              "      <td>ABIDJAN SOUTH</td>\n",
              "      <td>ffa6bdc032</td>\n",
              "    </tr>\n",
              "    <tr>\n",
              "      <th>2</th>\n",
              "      <td>Voice</td>\n",
              "      <td>0</td>\n",
              "      <td>2012-05-07 08:37:47.0</td>\n",
              "      <td>3</td>\n",
              "      <td>de08884e7eb68a8</td>\n",
              "      <td>5a699ac9f644039</td>\n",
              "      <td>19e2e</td>\n",
              "      <td>19e2e</td>\n",
              "      <td>f7f527c807</td>\n",
              "      <td>NaN</td>\n",
              "      <td>PLATEAU</td>\n",
              "      <td>In Service</td>\n",
              "      <td>ABIDJAN</td>\n",
              "      <td>Abidjan_CENTRE</td>\n",
              "      <td>ZONE A - Abidjan_CENTRE</td>\n",
              "      <td>-4.026139</td>\n",
              "      <td>5.329250</td>\n",
              "      <td>LAGUNE</td>\n",
              "      <td>ABIDJAN SOUTH</td>\n",
              "      <td>3e46cdd0e8</td>\n",
              "    </tr>\n",
              "    <tr>\n",
              "      <th>3</th>\n",
              "      <td>Voice</td>\n",
              "      <td>0</td>\n",
              "      <td>2012-05-07 09:56:52.0</td>\n",
              "      <td>3</td>\n",
              "      <td>a5ff70730fe55d6</td>\n",
              "      <td>f34968a670b9422</td>\n",
              "      <td>19e2e</td>\n",
              "      <td>19e2e</td>\n",
              "      <td>f7f527c807</td>\n",
              "      <td>NaN</td>\n",
              "      <td>PLATEAU</td>\n",
              "      <td>In Service</td>\n",
              "      <td>ABIDJAN</td>\n",
              "      <td>Abidjan_CENTRE</td>\n",
              "      <td>ZONE A - Abidjan_CENTRE</td>\n",
              "      <td>-4.026139</td>\n",
              "      <td>5.329250</td>\n",
              "      <td>LAGUNE</td>\n",
              "      <td>ABIDJAN SOUTH</td>\n",
              "      <td>3e46cdd0e8</td>\n",
              "    </tr>\n",
              "    <tr>\n",
              "      <th>4</th>\n",
              "      <td>Voice</td>\n",
              "      <td>0</td>\n",
              "      <td>2012-05-07 20:17:41.0</td>\n",
              "      <td>3</td>\n",
              "      <td>4106e7c8e1bdc3c</td>\n",
              "      <td>87b5c66d514431b</td>\n",
              "      <td>19e2e</td>\n",
              "      <td>19e2e</td>\n",
              "      <td>f7f527c807</td>\n",
              "      <td>NaN</td>\n",
              "      <td>PLATEAU</td>\n",
              "      <td>In Service</td>\n",
              "      <td>ABIDJAN</td>\n",
              "      <td>Abidjan_CENTRE</td>\n",
              "      <td>ZONE A - Abidjan_CENTRE</td>\n",
              "      <td>-4.026139</td>\n",
              "      <td>5.329250</td>\n",
              "      <td>LAGUNE</td>\n",
              "      <td>ABIDJAN SOUTH</td>\n",
              "      <td>3e46cdd0e8</td>\n",
              "    </tr>\n",
              "  </tbody>\n",
              "</table>\n",
              "</div>"
            ],
            "text/plain": [
              "  product  value               datetime  ...  region           area   site_code\n",
              "0   Voice      0  2012-05-07 08:33:43.0  ...  LAGUNE  ABIDJAN NORTH  7f76d66503\n",
              "1   Voice      0  2012-05-07 08:36:17.0  ...  LAGUNE  ABIDJAN SOUTH  ffa6bdc032\n",
              "2   Voice      0  2012-05-07 08:37:47.0  ...  LAGUNE  ABIDJAN SOUTH  3e46cdd0e8\n",
              "3   Voice      0  2012-05-07 09:56:52.0  ...  LAGUNE  ABIDJAN SOUTH  3e46cdd0e8\n",
              "4   Voice      0  2012-05-07 20:17:41.0  ...  LAGUNE  ABIDJAN SOUTH  3e46cdd0e8\n",
              "\n",
              "[5 rows x 20 columns]"
            ]
          },
          "metadata": {
            "tags": []
          },
          "execution_count": 20
        }
      ]
    },
    {
      "cell_type": "code",
      "metadata": {
        "id": "GvLjytqfyLLY",
        "colab_type": "code",
        "outputId": "171d200b-2aa0-4e93-d5d0-6d5b79e15965",
        "colab": {
          "base_uri": "https://localhost:8080/",
          "height": 34
        }
      },
      "source": [
        "#Checking the number of rows and columns in the new merged data set created.\n",
        "\n",
        "df1_merged.shape"
      ],
      "execution_count": 0,
      "outputs": [
        {
          "output_type": "execute_result",
          "data": {
            "text/plain": [
              "(176, 20)"
            ]
          },
          "metadata": {
            "tags": []
          },
          "execution_count": 66
        }
      ]
    },
    {
      "cell_type": "code",
      "metadata": {
        "id": "mtQC5jyJkzcc",
        "colab_type": "code",
        "outputId": "8a54fe0f-eea7-455b-bb57-fa554b94c4a0",
        "colab": {
          "base_uri": "https://localhost:8080/",
          "height": 383
        }
      },
      "source": [
        "# Merging cells_geo onto telecom dataset 2 which is for day 2\n",
        "\n",
        "# using inner join to find only rows that match in the two data sets.\n",
        "\n",
        "df2_merged = df2.merge(cells_geo, how='inner', on='cell_id')\n",
        "\n",
        "df2_merged.head()"
      ],
      "execution_count": 0,
      "outputs": [
        {
          "output_type": "execute_result",
          "data": {
            "text/html": [
              "<div>\n",
              "<style scoped>\n",
              "    .dataframe tbody tr th:only-of-type {\n",
              "        vertical-align: middle;\n",
              "    }\n",
              "\n",
              "    .dataframe tbody tr th {\n",
              "        vertical-align: top;\n",
              "    }\n",
              "\n",
              "    .dataframe thead th {\n",
              "        text-align: right;\n",
              "    }\n",
              "</style>\n",
              "<table border=\"1\" class=\"dataframe\">\n",
              "  <thead>\n",
              "    <tr style=\"text-align: right;\">\n",
              "      <th></th>\n",
              "      <th>product</th>\n",
              "      <th>value</th>\n",
              "      <th>datetime</th>\n",
              "      <th>cell_on_site</th>\n",
              "      <th>dw_a_number_int</th>\n",
              "      <th>dw_b_number_int</th>\n",
              "      <th>country_a</th>\n",
              "      <th>country_b</th>\n",
              "      <th>cell_id</th>\n",
              "      <th>site_id</th>\n",
              "      <th>villes</th>\n",
              "      <th>status</th>\n",
              "      <th>localisation</th>\n",
              "      <th>decoupzone</th>\n",
              "      <th>zonename</th>\n",
              "      <th>longitude</th>\n",
              "      <th>latitude</th>\n",
              "      <th>region</th>\n",
              "      <th>area</th>\n",
              "      <th>site_code</th>\n",
              "    </tr>\n",
              "  </thead>\n",
              "  <tbody>\n",
              "    <tr>\n",
              "      <th>0</th>\n",
              "      <td>Voice</td>\n",
              "      <td>0</td>\n",
              "      <td>2012-05-08 06:47:21.0</td>\n",
              "      <td>1</td>\n",
              "      <td>67af5d494d30293</td>\n",
              "      <td>404ba3c13af0327</td>\n",
              "      <td>19e2e</td>\n",
              "      <td>19e2e</td>\n",
              "      <td>35e843a20a</td>\n",
              "      <td>NaN</td>\n",
              "      <td>TIASSALE</td>\n",
              "      <td>In Service</td>\n",
              "      <td>INTERIEUR</td>\n",
              "      <td>Grand-SUD</td>\n",
              "      <td>ZONE B - Grand-SUD</td>\n",
              "      <td>-4.824889</td>\n",
              "      <td>5.895250</td>\n",
              "      <td>LAGUNE</td>\n",
              "      <td>SOUTH WEST</td>\n",
              "      <td>78d279198d</td>\n",
              "    </tr>\n",
              "    <tr>\n",
              "      <th>1</th>\n",
              "      <td>Voice</td>\n",
              "      <td>0</td>\n",
              "      <td>2012-05-08 07:51:51.0</td>\n",
              "      <td>0</td>\n",
              "      <td>e34ff4a67d606fa</td>\n",
              "      <td>4407ee203016a4b</td>\n",
              "      <td>19e2e</td>\n",
              "      <td>19e2e</td>\n",
              "      <td>0e037c2d0c</td>\n",
              "      <td>NaN</td>\n",
              "      <td>SOUBRE</td>\n",
              "      <td>In Service</td>\n",
              "      <td>INTERIEUR</td>\n",
              "      <td>SUD-OUEST</td>\n",
              "      <td>ZONE E - SUD-OUEST</td>\n",
              "      <td>-6.602500</td>\n",
              "      <td>5.777111</td>\n",
              "      <td>BAS SASSANDRA</td>\n",
              "      <td>SOUTH WEST</td>\n",
              "      <td>956ede9166</td>\n",
              "    </tr>\n",
              "    <tr>\n",
              "      <th>2</th>\n",
              "      <td>Voice</td>\n",
              "      <td>0</td>\n",
              "      <td>2012-05-08 07:54:47.0</td>\n",
              "      <td>1</td>\n",
              "      <td>32f19812c5e6580</td>\n",
              "      <td>5a699ac9f644039</td>\n",
              "      <td>19e2e</td>\n",
              "      <td>19e2e</td>\n",
              "      <td>cf1f58a995</td>\n",
              "      <td>NaN</td>\n",
              "      <td>PORT-BOUET</td>\n",
              "      <td>In Service</td>\n",
              "      <td>ABIDJAN</td>\n",
              "      <td>Abidjan_SUD</td>\n",
              "      <td>ZONE D - Abidjan_SUD</td>\n",
              "      <td>-3.945028</td>\n",
              "      <td>5.254056</td>\n",
              "      <td>LAGUNE</td>\n",
              "      <td>ABIDJAN SOUTH</td>\n",
              "      <td>ffa6bdc032</td>\n",
              "    </tr>\n",
              "    <tr>\n",
              "      <th>3</th>\n",
              "      <td>Voice</td>\n",
              "      <td>0</td>\n",
              "      <td>2012-05-08 14:52:59.0</td>\n",
              "      <td>1</td>\n",
              "      <td>704ad46f5623789</td>\n",
              "      <td>8788ee37020a0b3</td>\n",
              "      <td>19e2e</td>\n",
              "      <td>19e2e</td>\n",
              "      <td>cf1f58a995</td>\n",
              "      <td>NaN</td>\n",
              "      <td>PORT-BOUET</td>\n",
              "      <td>In Service</td>\n",
              "      <td>ABIDJAN</td>\n",
              "      <td>Abidjan_SUD</td>\n",
              "      <td>ZONE D - Abidjan_SUD</td>\n",
              "      <td>-3.945028</td>\n",
              "      <td>5.254056</td>\n",
              "      <td>LAGUNE</td>\n",
              "      <td>ABIDJAN SOUTH</td>\n",
              "      <td>ffa6bdc032</td>\n",
              "    </tr>\n",
              "    <tr>\n",
              "      <th>4</th>\n",
              "      <td>Voice</td>\n",
              "      <td>0</td>\n",
              "      <td>2012-05-08 17:03:00.0</td>\n",
              "      <td>1</td>\n",
              "      <td>5a699ac9f644039</td>\n",
              "      <td>9b4bc9f7d7ce6b2</td>\n",
              "      <td>19e2e</td>\n",
              "      <td>19e2e</td>\n",
              "      <td>cf1f58a995</td>\n",
              "      <td>NaN</td>\n",
              "      <td>PORT-BOUET</td>\n",
              "      <td>In Service</td>\n",
              "      <td>ABIDJAN</td>\n",
              "      <td>Abidjan_SUD</td>\n",
              "      <td>ZONE D - Abidjan_SUD</td>\n",
              "      <td>-3.945028</td>\n",
              "      <td>5.254056</td>\n",
              "      <td>LAGUNE</td>\n",
              "      <td>ABIDJAN SOUTH</td>\n",
              "      <td>ffa6bdc032</td>\n",
              "    </tr>\n",
              "  </tbody>\n",
              "</table>\n",
              "</div>"
            ],
            "text/plain": [
              "  product  value  ...           area   site_code\n",
              "0   Voice      0  ...     SOUTH WEST  78d279198d\n",
              "1   Voice      0  ...     SOUTH WEST  956ede9166\n",
              "2   Voice      0  ...  ABIDJAN SOUTH  ffa6bdc032\n",
              "3   Voice      0  ...  ABIDJAN SOUTH  ffa6bdc032\n",
              "4   Voice      0  ...  ABIDJAN SOUTH  ffa6bdc032\n",
              "\n",
              "[5 rows x 20 columns]"
            ]
          },
          "metadata": {
            "tags": []
          },
          "execution_count": 21
        }
      ]
    },
    {
      "cell_type": "code",
      "metadata": {
        "id": "tJSMsAuJqNyJ",
        "colab_type": "code",
        "outputId": "4893360e-f443-43ea-8c78-450efa7be330",
        "colab": {
          "base_uri": "https://localhost:8080/",
          "height": 383
        }
      },
      "source": [
        "# Merging cells_geo onto the telcom dataset 3 which is for the 3rd day\n",
        "\n",
        "# used inner join to the rows that  match for the two datasets\n",
        "\n",
        "df3_merged = df3.merge(cells_geo, how='inner', on='cell_id')\n",
        "\n",
        "df3_merged.head()"
      ],
      "execution_count": 0,
      "outputs": [
        {
          "output_type": "execute_result",
          "data": {
            "text/html": [
              "<div>\n",
              "<style scoped>\n",
              "    .dataframe tbody tr th:only-of-type {\n",
              "        vertical-align: middle;\n",
              "    }\n",
              "\n",
              "    .dataframe tbody tr th {\n",
              "        vertical-align: top;\n",
              "    }\n",
              "\n",
              "    .dataframe thead th {\n",
              "        text-align: right;\n",
              "    }\n",
              "</style>\n",
              "<table border=\"1\" class=\"dataframe\">\n",
              "  <thead>\n",
              "    <tr style=\"text-align: right;\">\n",
              "      <th></th>\n",
              "      <th>product</th>\n",
              "      <th>value</th>\n",
              "      <th>datetime</th>\n",
              "      <th>cell_on_site</th>\n",
              "      <th>dw_a_number_int</th>\n",
              "      <th>dw_b_number_int</th>\n",
              "      <th>country_a</th>\n",
              "      <th>country_b</th>\n",
              "      <th>cell_id</th>\n",
              "      <th>site_id</th>\n",
              "      <th>villes</th>\n",
              "      <th>status</th>\n",
              "      <th>localisation</th>\n",
              "      <th>decoupzone</th>\n",
              "      <th>zonename</th>\n",
              "      <th>longitude</th>\n",
              "      <th>latitude</th>\n",
              "      <th>region</th>\n",
              "      <th>area</th>\n",
              "      <th>site_code</th>\n",
              "    </tr>\n",
              "  </thead>\n",
              "  <tbody>\n",
              "    <tr>\n",
              "      <th>0</th>\n",
              "      <td>Voice</td>\n",
              "      <td>0</td>\n",
              "      <td>2012-05-09 01:51:55.0</td>\n",
              "      <td>1</td>\n",
              "      <td>893e7ee257dad27</td>\n",
              "      <td>662861c8d47acbb</td>\n",
              "      <td>19e2e</td>\n",
              "      <td>19e2e</td>\n",
              "      <td>045d658d47</td>\n",
              "      <td>NaN</td>\n",
              "      <td>COCODY</td>\n",
              "      <td>In Service</td>\n",
              "      <td>ABIDJAN</td>\n",
              "      <td>Abidjan_EST</td>\n",
              "      <td>ZONE B - Abidjan_EST</td>\n",
              "      <td>-3.982222</td>\n",
              "      <td>5.377583</td>\n",
              "      <td>LAGUNE</td>\n",
              "      <td>ABIDJAN NORTH</td>\n",
              "      <td>5818d7383c</td>\n",
              "    </tr>\n",
              "    <tr>\n",
              "      <th>1</th>\n",
              "      <td>Voice</td>\n",
              "      <td>0</td>\n",
              "      <td>2012-05-09 08:08:06.0</td>\n",
              "      <td>0</td>\n",
              "      <td>e34ff4a67d606fa</td>\n",
              "      <td>672e3c14d0ffcac</td>\n",
              "      <td>19e2e</td>\n",
              "      <td>19e2e</td>\n",
              "      <td>0e037c2d0c</td>\n",
              "      <td>NaN</td>\n",
              "      <td>SOUBRE</td>\n",
              "      <td>In Service</td>\n",
              "      <td>INTERIEUR</td>\n",
              "      <td>SUD-OUEST</td>\n",
              "      <td>ZONE E - SUD-OUEST</td>\n",
              "      <td>-6.602500</td>\n",
              "      <td>5.777111</td>\n",
              "      <td>BAS SASSANDRA</td>\n",
              "      <td>SOUTH WEST</td>\n",
              "      <td>956ede9166</td>\n",
              "    </tr>\n",
              "    <tr>\n",
              "      <th>2</th>\n",
              "      <td>Voice</td>\n",
              "      <td>0</td>\n",
              "      <td>2012-05-09 08:47:52.0</td>\n",
              "      <td>2</td>\n",
              "      <td>dfc914262973ddc</td>\n",
              "      <td>dabf9d4e16bb048</td>\n",
              "      <td>19e2e</td>\n",
              "      <td>19e2e</td>\n",
              "      <td>858fa132ac</td>\n",
              "      <td>NaN</td>\n",
              "      <td>COCODY</td>\n",
              "      <td>In Service</td>\n",
              "      <td>ABIDJAN</td>\n",
              "      <td>Abidjan_EST</td>\n",
              "      <td>ZONE B - Abidjan_EST</td>\n",
              "      <td>-4.003556</td>\n",
              "      <td>5.344750</td>\n",
              "      <td>LAGUNE</td>\n",
              "      <td>ABIDJAN NORTH</td>\n",
              "      <td>a55150a8e7</td>\n",
              "    </tr>\n",
              "    <tr>\n",
              "      <th>3</th>\n",
              "      <td>Voice</td>\n",
              "      <td>0</td>\n",
              "      <td>2012-05-09 11:47:13.0</td>\n",
              "      <td>2</td>\n",
              "      <td>dabf9d4e16bb048</td>\n",
              "      <td>746d38702c4a524</td>\n",
              "      <td>19e2e</td>\n",
              "      <td>19e2e</td>\n",
              "      <td>858fa132ac</td>\n",
              "      <td>NaN</td>\n",
              "      <td>COCODY</td>\n",
              "      <td>In Service</td>\n",
              "      <td>ABIDJAN</td>\n",
              "      <td>Abidjan_EST</td>\n",
              "      <td>ZONE B - Abidjan_EST</td>\n",
              "      <td>-4.003556</td>\n",
              "      <td>5.344750</td>\n",
              "      <td>LAGUNE</td>\n",
              "      <td>ABIDJAN NORTH</td>\n",
              "      <td>a55150a8e7</td>\n",
              "    </tr>\n",
              "    <tr>\n",
              "      <th>4</th>\n",
              "      <td>Voice</td>\n",
              "      <td>0</td>\n",
              "      <td>2012-05-09 11:48:56.0</td>\n",
              "      <td>2</td>\n",
              "      <td>a20b9c31b155d9c</td>\n",
              "      <td>e0fe95f96429a5c</td>\n",
              "      <td>19e2e</td>\n",
              "      <td>19e2e</td>\n",
              "      <td>858fa132ac</td>\n",
              "      <td>NaN</td>\n",
              "      <td>COCODY</td>\n",
              "      <td>In Service</td>\n",
              "      <td>ABIDJAN</td>\n",
              "      <td>Abidjan_EST</td>\n",
              "      <td>ZONE B - Abidjan_EST</td>\n",
              "      <td>-4.003556</td>\n",
              "      <td>5.344750</td>\n",
              "      <td>LAGUNE</td>\n",
              "      <td>ABIDJAN NORTH</td>\n",
              "      <td>a55150a8e7</td>\n",
              "    </tr>\n",
              "  </tbody>\n",
              "</table>\n",
              "</div>"
            ],
            "text/plain": [
              "  product  value  ...           area   site_code\n",
              "0   Voice      0  ...  ABIDJAN NORTH  5818d7383c\n",
              "1   Voice      0  ...     SOUTH WEST  956ede9166\n",
              "2   Voice      0  ...  ABIDJAN NORTH  a55150a8e7\n",
              "3   Voice      0  ...  ABIDJAN NORTH  a55150a8e7\n",
              "4   Voice      0  ...  ABIDJAN NORTH  a55150a8e7\n",
              "\n",
              "[5 rows x 20 columns]"
            ]
          },
          "metadata": {
            "tags": []
          },
          "execution_count": 22
        }
      ]
    },
    {
      "cell_type": "code",
      "metadata": {
        "id": "qzVt-TbKqNJF",
        "colab_type": "code",
        "colab": {}
      },
      "source": [
        "# usingh conmcat function/method, i linked the 3 new merged dataframes \n",
        "\n",
        "dataframe = pd.concat([df1_merged, df2_merged, df3_merged], ignore_index=False)"
      ],
      "execution_count": 0,
      "outputs": []
    },
    {
      "cell_type": "code",
      "metadata": {
        "id": "489-bOs2yfPp",
        "colab_type": "code",
        "outputId": "a3615b4d-e317-4c8d-97a8-4db270d673d2",
        "colab": {
          "base_uri": "https://localhost:8080/",
          "height": 383
        }
      },
      "source": [
        "# displaying the first rows of the combined dataframe\n",
        "\n",
        "dataframe.head()"
      ],
      "execution_count": 0,
      "outputs": [
        {
          "output_type": "execute_result",
          "data": {
            "text/html": [
              "<div>\n",
              "<style scoped>\n",
              "    .dataframe tbody tr th:only-of-type {\n",
              "        vertical-align: middle;\n",
              "    }\n",
              "\n",
              "    .dataframe tbody tr th {\n",
              "        vertical-align: top;\n",
              "    }\n",
              "\n",
              "    .dataframe thead th {\n",
              "        text-align: right;\n",
              "    }\n",
              "</style>\n",
              "<table border=\"1\" class=\"dataframe\">\n",
              "  <thead>\n",
              "    <tr style=\"text-align: right;\">\n",
              "      <th></th>\n",
              "      <th>product</th>\n",
              "      <th>value</th>\n",
              "      <th>datetime</th>\n",
              "      <th>cell_on_site</th>\n",
              "      <th>dw_a_number_int</th>\n",
              "      <th>dw_b_number_int</th>\n",
              "      <th>country_a</th>\n",
              "      <th>country_b</th>\n",
              "      <th>cell_id</th>\n",
              "      <th>site_id</th>\n",
              "      <th>villes</th>\n",
              "      <th>status</th>\n",
              "      <th>localisation</th>\n",
              "      <th>decoupzone</th>\n",
              "      <th>zonename</th>\n",
              "      <th>longitude</th>\n",
              "      <th>latitude</th>\n",
              "      <th>region</th>\n",
              "      <th>area</th>\n",
              "      <th>site_code</th>\n",
              "    </tr>\n",
              "  </thead>\n",
              "  <tbody>\n",
              "    <tr>\n",
              "      <th>0</th>\n",
              "      <td>Voice</td>\n",
              "      <td>0</td>\n",
              "      <td>2012-05-07 08:33:43.0</td>\n",
              "      <td>0</td>\n",
              "      <td>13d236932ae2bcf</td>\n",
              "      <td>662861c8d47acbb</td>\n",
              "      <td>19e2e</td>\n",
              "      <td>19e2e</td>\n",
              "      <td>1ce5a37ea9</td>\n",
              "      <td>NaN</td>\n",
              "      <td>ATTECOUBE</td>\n",
              "      <td>In Service</td>\n",
              "      <td>ABIDJAN</td>\n",
              "      <td>Abidjan_OUEST</td>\n",
              "      <td>ZONE C - Abidjan_OUEST</td>\n",
              "      <td>-4.035111</td>\n",
              "      <td>5.348917</td>\n",
              "      <td>LAGUNE</td>\n",
              "      <td>ABIDJAN NORTH</td>\n",
              "      <td>7f76d66503</td>\n",
              "    </tr>\n",
              "    <tr>\n",
              "      <th>1</th>\n",
              "      <td>Voice</td>\n",
              "      <td>0</td>\n",
              "      <td>2012-05-07 08:36:17.0</td>\n",
              "      <td>0</td>\n",
              "      <td>704ad46f5623789</td>\n",
              "      <td>8788ee37020a0b3</td>\n",
              "      <td>19e2e</td>\n",
              "      <td>19e2e</td>\n",
              "      <td>24ced8b6ba</td>\n",
              "      <td>NaN</td>\n",
              "      <td>PORT-BOUET</td>\n",
              "      <td>In Service</td>\n",
              "      <td>ABIDJAN</td>\n",
              "      <td>Abidjan_SUD</td>\n",
              "      <td>ZONE D - Abidjan_SUD</td>\n",
              "      <td>-3.945028</td>\n",
              "      <td>5.254056</td>\n",
              "      <td>LAGUNE</td>\n",
              "      <td>ABIDJAN SOUTH</td>\n",
              "      <td>ffa6bdc032</td>\n",
              "    </tr>\n",
              "    <tr>\n",
              "      <th>2</th>\n",
              "      <td>Voice</td>\n",
              "      <td>0</td>\n",
              "      <td>2012-05-07 08:37:47.0</td>\n",
              "      <td>3</td>\n",
              "      <td>de08884e7eb68a8</td>\n",
              "      <td>5a699ac9f644039</td>\n",
              "      <td>19e2e</td>\n",
              "      <td>19e2e</td>\n",
              "      <td>f7f527c807</td>\n",
              "      <td>NaN</td>\n",
              "      <td>PLATEAU</td>\n",
              "      <td>In Service</td>\n",
              "      <td>ABIDJAN</td>\n",
              "      <td>Abidjan_CENTRE</td>\n",
              "      <td>ZONE A - Abidjan_CENTRE</td>\n",
              "      <td>-4.026139</td>\n",
              "      <td>5.329250</td>\n",
              "      <td>LAGUNE</td>\n",
              "      <td>ABIDJAN SOUTH</td>\n",
              "      <td>3e46cdd0e8</td>\n",
              "    </tr>\n",
              "    <tr>\n",
              "      <th>3</th>\n",
              "      <td>Voice</td>\n",
              "      <td>0</td>\n",
              "      <td>2012-05-07 09:56:52.0</td>\n",
              "      <td>3</td>\n",
              "      <td>a5ff70730fe55d6</td>\n",
              "      <td>f34968a670b9422</td>\n",
              "      <td>19e2e</td>\n",
              "      <td>19e2e</td>\n",
              "      <td>f7f527c807</td>\n",
              "      <td>NaN</td>\n",
              "      <td>PLATEAU</td>\n",
              "      <td>In Service</td>\n",
              "      <td>ABIDJAN</td>\n",
              "      <td>Abidjan_CENTRE</td>\n",
              "      <td>ZONE A - Abidjan_CENTRE</td>\n",
              "      <td>-4.026139</td>\n",
              "      <td>5.329250</td>\n",
              "      <td>LAGUNE</td>\n",
              "      <td>ABIDJAN SOUTH</td>\n",
              "      <td>3e46cdd0e8</td>\n",
              "    </tr>\n",
              "    <tr>\n",
              "      <th>4</th>\n",
              "      <td>Voice</td>\n",
              "      <td>0</td>\n",
              "      <td>2012-05-07 20:17:41.0</td>\n",
              "      <td>3</td>\n",
              "      <td>4106e7c8e1bdc3c</td>\n",
              "      <td>87b5c66d514431b</td>\n",
              "      <td>19e2e</td>\n",
              "      <td>19e2e</td>\n",
              "      <td>f7f527c807</td>\n",
              "      <td>NaN</td>\n",
              "      <td>PLATEAU</td>\n",
              "      <td>In Service</td>\n",
              "      <td>ABIDJAN</td>\n",
              "      <td>Abidjan_CENTRE</td>\n",
              "      <td>ZONE A - Abidjan_CENTRE</td>\n",
              "      <td>-4.026139</td>\n",
              "      <td>5.329250</td>\n",
              "      <td>LAGUNE</td>\n",
              "      <td>ABIDJAN SOUTH</td>\n",
              "      <td>3e46cdd0e8</td>\n",
              "    </tr>\n",
              "  </tbody>\n",
              "</table>\n",
              "</div>"
            ],
            "text/plain": [
              "  product  value               datetime  ...  region           area   site_code\n",
              "0   Voice      0  2012-05-07 08:33:43.0  ...  LAGUNE  ABIDJAN NORTH  7f76d66503\n",
              "1   Voice      0  2012-05-07 08:36:17.0  ...  LAGUNE  ABIDJAN SOUTH  ffa6bdc032\n",
              "2   Voice      0  2012-05-07 08:37:47.0  ...  LAGUNE  ABIDJAN SOUTH  3e46cdd0e8\n",
              "3   Voice      0  2012-05-07 09:56:52.0  ...  LAGUNE  ABIDJAN SOUTH  3e46cdd0e8\n",
              "4   Voice      0  2012-05-07 20:17:41.0  ...  LAGUNE  ABIDJAN SOUTH  3e46cdd0e8\n",
              "\n",
              "[5 rows x 20 columns]"
            ]
          },
          "metadata": {
            "tags": []
          },
          "execution_count": 24
        }
      ]
    },
    {
      "cell_type": "code",
      "metadata": {
        "id": "N2o-8iDzzJZb",
        "colab_type": "code",
        "outputId": "a790fd12-15bd-4a5c-8f6a-66df6c00ab56",
        "colab": {
          "base_uri": "https://localhost:8080/",
          "height": 383
        }
      },
      "source": [
        "# dropping irrelevant columns\n",
        "\n",
        "dataframe.drop(['country_a', 'country_b', 'cell_on_site'], axis = 1, inplace = True)\n",
        "\n",
        "dataframe.head()"
      ],
      "execution_count": 0,
      "outputs": [
        {
          "output_type": "execute_result",
          "data": {
            "text/html": [
              "<div>\n",
              "<style scoped>\n",
              "    .dataframe tbody tr th:only-of-type {\n",
              "        vertical-align: middle;\n",
              "    }\n",
              "\n",
              "    .dataframe tbody tr th {\n",
              "        vertical-align: top;\n",
              "    }\n",
              "\n",
              "    .dataframe thead th {\n",
              "        text-align: right;\n",
              "    }\n",
              "</style>\n",
              "<table border=\"1\" class=\"dataframe\">\n",
              "  <thead>\n",
              "    <tr style=\"text-align: right;\">\n",
              "      <th></th>\n",
              "      <th>product</th>\n",
              "      <th>value</th>\n",
              "      <th>datetime</th>\n",
              "      <th>dw_a_number_int</th>\n",
              "      <th>dw_b_number_int</th>\n",
              "      <th>cell_id</th>\n",
              "      <th>site_id</th>\n",
              "      <th>villes</th>\n",
              "      <th>status</th>\n",
              "      <th>localisation</th>\n",
              "      <th>decoupzone</th>\n",
              "      <th>zonename</th>\n",
              "      <th>longitude</th>\n",
              "      <th>latitude</th>\n",
              "      <th>region</th>\n",
              "      <th>area</th>\n",
              "      <th>site_code</th>\n",
              "    </tr>\n",
              "  </thead>\n",
              "  <tbody>\n",
              "    <tr>\n",
              "      <th>0</th>\n",
              "      <td>Voice</td>\n",
              "      <td>0</td>\n",
              "      <td>2012-05-07 08:33:43.0</td>\n",
              "      <td>13d236932ae2bcf</td>\n",
              "      <td>662861c8d47acbb</td>\n",
              "      <td>1ce5a37ea9</td>\n",
              "      <td>NaN</td>\n",
              "      <td>ATTECOUBE</td>\n",
              "      <td>In Service</td>\n",
              "      <td>ABIDJAN</td>\n",
              "      <td>Abidjan_OUEST</td>\n",
              "      <td>ZONE C - Abidjan_OUEST</td>\n",
              "      <td>-4.035111</td>\n",
              "      <td>5.348917</td>\n",
              "      <td>LAGUNE</td>\n",
              "      <td>ABIDJAN NORTH</td>\n",
              "      <td>7f76d66503</td>\n",
              "    </tr>\n",
              "    <tr>\n",
              "      <th>1</th>\n",
              "      <td>Voice</td>\n",
              "      <td>0</td>\n",
              "      <td>2012-05-07 08:36:17.0</td>\n",
              "      <td>704ad46f5623789</td>\n",
              "      <td>8788ee37020a0b3</td>\n",
              "      <td>24ced8b6ba</td>\n",
              "      <td>NaN</td>\n",
              "      <td>PORT-BOUET</td>\n",
              "      <td>In Service</td>\n",
              "      <td>ABIDJAN</td>\n",
              "      <td>Abidjan_SUD</td>\n",
              "      <td>ZONE D - Abidjan_SUD</td>\n",
              "      <td>-3.945028</td>\n",
              "      <td>5.254056</td>\n",
              "      <td>LAGUNE</td>\n",
              "      <td>ABIDJAN SOUTH</td>\n",
              "      <td>ffa6bdc032</td>\n",
              "    </tr>\n",
              "    <tr>\n",
              "      <th>2</th>\n",
              "      <td>Voice</td>\n",
              "      <td>0</td>\n",
              "      <td>2012-05-07 08:37:47.0</td>\n",
              "      <td>de08884e7eb68a8</td>\n",
              "      <td>5a699ac9f644039</td>\n",
              "      <td>f7f527c807</td>\n",
              "      <td>NaN</td>\n",
              "      <td>PLATEAU</td>\n",
              "      <td>In Service</td>\n",
              "      <td>ABIDJAN</td>\n",
              "      <td>Abidjan_CENTRE</td>\n",
              "      <td>ZONE A - Abidjan_CENTRE</td>\n",
              "      <td>-4.026139</td>\n",
              "      <td>5.329250</td>\n",
              "      <td>LAGUNE</td>\n",
              "      <td>ABIDJAN SOUTH</td>\n",
              "      <td>3e46cdd0e8</td>\n",
              "    </tr>\n",
              "    <tr>\n",
              "      <th>3</th>\n",
              "      <td>Voice</td>\n",
              "      <td>0</td>\n",
              "      <td>2012-05-07 09:56:52.0</td>\n",
              "      <td>a5ff70730fe55d6</td>\n",
              "      <td>f34968a670b9422</td>\n",
              "      <td>f7f527c807</td>\n",
              "      <td>NaN</td>\n",
              "      <td>PLATEAU</td>\n",
              "      <td>In Service</td>\n",
              "      <td>ABIDJAN</td>\n",
              "      <td>Abidjan_CENTRE</td>\n",
              "      <td>ZONE A - Abidjan_CENTRE</td>\n",
              "      <td>-4.026139</td>\n",
              "      <td>5.329250</td>\n",
              "      <td>LAGUNE</td>\n",
              "      <td>ABIDJAN SOUTH</td>\n",
              "      <td>3e46cdd0e8</td>\n",
              "    </tr>\n",
              "    <tr>\n",
              "      <th>4</th>\n",
              "      <td>Voice</td>\n",
              "      <td>0</td>\n",
              "      <td>2012-05-07 20:17:41.0</td>\n",
              "      <td>4106e7c8e1bdc3c</td>\n",
              "      <td>87b5c66d514431b</td>\n",
              "      <td>f7f527c807</td>\n",
              "      <td>NaN</td>\n",
              "      <td>PLATEAU</td>\n",
              "      <td>In Service</td>\n",
              "      <td>ABIDJAN</td>\n",
              "      <td>Abidjan_CENTRE</td>\n",
              "      <td>ZONE A - Abidjan_CENTRE</td>\n",
              "      <td>-4.026139</td>\n",
              "      <td>5.329250</td>\n",
              "      <td>LAGUNE</td>\n",
              "      <td>ABIDJAN SOUTH</td>\n",
              "      <td>3e46cdd0e8</td>\n",
              "    </tr>\n",
              "  </tbody>\n",
              "</table>\n",
              "</div>"
            ],
            "text/plain": [
              "  product  value               datetime  ...  region           area   site_code\n",
              "0   Voice      0  2012-05-07 08:33:43.0  ...  LAGUNE  ABIDJAN NORTH  7f76d66503\n",
              "1   Voice      0  2012-05-07 08:36:17.0  ...  LAGUNE  ABIDJAN SOUTH  ffa6bdc032\n",
              "2   Voice      0  2012-05-07 08:37:47.0  ...  LAGUNE  ABIDJAN SOUTH  3e46cdd0e8\n",
              "3   Voice      0  2012-05-07 09:56:52.0  ...  LAGUNE  ABIDJAN SOUTH  3e46cdd0e8\n",
              "4   Voice      0  2012-05-07 20:17:41.0  ...  LAGUNE  ABIDJAN SOUTH  3e46cdd0e8\n",
              "\n",
              "[5 rows x 17 columns]"
            ]
          },
          "metadata": {
            "tags": []
          },
          "execution_count": 25
        }
      ]
    },
    {
      "cell_type": "code",
      "metadata": {
        "id": "8hf3gZLrzJVP",
        "colab_type": "code",
        "outputId": "406f29ec-ca53-416f-9c93-14340d9ce6b9",
        "colab": {
          "base_uri": "https://localhost:8080/",
          "height": 319
        }
      },
      "source": [
        "# checking for number of missing/null values.\n",
        "\n",
        "dataframe.isnull().sum()"
      ],
      "execution_count": 0,
      "outputs": [
        {
          "output_type": "execute_result",
          "data": {
            "text/plain": [
              "product              0\n",
              "value                0\n",
              "datetime             0\n",
              "dw_a_number_int      0\n",
              "dw_b_number_int      0\n",
              "cell_id              0\n",
              "site_id            376\n",
              "villes               0\n",
              "status               1\n",
              "localisation         0\n",
              "decoupzone           0\n",
              "zonename             0\n",
              "longitude            0\n",
              "latitude             0\n",
              "region               0\n",
              "area                 0\n",
              "site_code            0\n",
              "dtype: int64"
            ]
          },
          "metadata": {
            "tags": []
          },
          "execution_count": 26
        }
      ]
    },
    {
      "cell_type": "code",
      "metadata": {
        "id": "yyJ0ZYMLzJQW",
        "colab_type": "code",
        "outputId": "0c679425-de5f-488c-d56f-03a0981c0e28",
        "colab": {
          "base_uri": "https://localhost:8080/",
          "height": 302
        }
      },
      "source": [
        "# dropping the 'site_id' column due to many missing values\n",
        "\n",
        "dataframe.drop('site_id', axis = 1, inplace = True)\n",
        "\n",
        "# Filled missing column with median\n",
        "\n",
        "dataframe.fillna(np.median, inplace = True)\n",
        "\n",
        "#Confirming if there no other null values\n",
        "dataframe.isnull().sum()"
      ],
      "execution_count": 0,
      "outputs": [
        {
          "output_type": "execute_result",
          "data": {
            "text/plain": [
              "product            0\n",
              "value              0\n",
              "datetime           0\n",
              "dw_a_number_int    0\n",
              "dw_b_number_int    0\n",
              "cell_id            0\n",
              "villes             0\n",
              "status             0\n",
              "localisation       0\n",
              "decoupzone         0\n",
              "zonename           0\n",
              "longitude          0\n",
              "latitude           0\n",
              "region             0\n",
              "area               0\n",
              "site_code          0\n",
              "dtype: int64"
            ]
          },
          "metadata": {
            "tags": []
          },
          "execution_count": 27
        }
      ]
    },
    {
      "cell_type": "code",
      "metadata": {
        "id": "rwdCBmgSDJIt",
        "colab_type": "code",
        "outputId": "cbeb8bb4-9367-4e9d-e19b-9d7939876c42",
        "colab": {
          "base_uri": "https://localhost:8080/",
          "height": 336
        }
      },
      "source": [
        "# changing the datetime column to datetime type\n",
        "\n",
        "dataframe.datetime = pd.to_datetime(dataframe.datetime)\n",
        "\n",
        "# splitting the datetime to date and time\n",
        "\n",
        "dataframe['date'] = [d.date() for d in dataframe.datetime]\n",
        "\n",
        "dataframe['time'] = [d.time() for d in dataframe.datetime]\n",
        "\n",
        "dataframe['date'] = pd.to_datetime(dataframe['date'])\n",
        "\n",
        "dataframe['time'] = pd.to_datetime(dataframe['time'], format='%H:%M:%S:%f', errors = 'ignore')\n",
        "\n",
        "# Confirming whether the changes have been made\n",
        "\n",
        "dataframe.dtypes"
      ],
      "execution_count": 0,
      "outputs": [
        {
          "output_type": "execute_result",
          "data": {
            "text/plain": [
              "product                    object\n",
              "value                       int64\n",
              "datetime           datetime64[ns]\n",
              "dw_a_number_int            object\n",
              "dw_b_number_int            object\n",
              "cell_id                    object\n",
              "villes                     object\n",
              "status                     object\n",
              "localisation               object\n",
              "decoupzone                 object\n",
              "zonename                   object\n",
              "longitude                 float64\n",
              "latitude                  float64\n",
              "region                     object\n",
              "area                       object\n",
              "site_code                  object\n",
              "date               datetime64[ns]\n",
              "time                       object\n",
              "dtype: object"
            ]
          },
          "metadata": {
            "tags": []
          },
          "execution_count": 28
        }
      ]
    },
    {
      "cell_type": "code",
      "metadata": {
        "id": "Y9Y_YdmG3W-2",
        "colab_type": "code",
        "outputId": "6f97d37a-8d35-403e-c5d3-62e90583a6b2",
        "colab": {
          "base_uri": "https://localhost:8080/",
          "height": 857
        }
      },
      "source": [
        "# Find the cities which were used most for the three days\n",
        "\n",
        "dataframe.groupby(['date', 'villes']).size()\n"
      ],
      "execution_count": 0,
      "outputs": [
        {
          "output_type": "execute_result",
          "data": {
            "text/plain": [
              "date        villes      \n",
              "2012-05-07  ABOBO            9\n",
              "            ADJAME           6\n",
              "            ATTECOUBE        4\n",
              "            BINGERVILLE      3\n",
              "            COCODY          65\n",
              "            KOUMASSI         6\n",
              "            MARCORY         10\n",
              "            PLATEAU          5\n",
              "            PORT-BOUET      14\n",
              "            SONGON           2\n",
              "            SOUBRE           3\n",
              "            TIASSALE        18\n",
              "            TOUMODI          1\n",
              "            TREICHVILLE     14\n",
              "            YAMOUSSOUKRO    11\n",
              "            YOPOUGON         5\n",
              "2012-05-08  ABOBO           10\n",
              "            ATTECOUBE        1\n",
              "            COCODY          25\n",
              "            KOUMASSI         2\n",
              "            MARCORY         22\n",
              "            PLATEAU          4\n",
              "            PORT-BOUET       5\n",
              "            SAN-PEDRO        3\n",
              "            SOUBRE           2\n",
              "            TANDA            1\n",
              "            TIASSALE         2\n",
              "            TIEBISSOU        1\n",
              "            TREICHVILLE      7\n",
              "            YAMOUSSOUKRO    10\n",
              "            YOPOUGON         6\n",
              "2012-05-09  ABENGOUROU       1\n",
              "            ABOBO            6\n",
              "            ADJAME           2\n",
              "            COCODY          38\n",
              "            GAGNOA           1\n",
              "            KOUMASSI         6\n",
              "            MARCORY         12\n",
              "            PLATEAU          2\n",
              "            PORT-BOUET       5\n",
              "            SONGON           1\n",
              "            SOUBRE           3\n",
              "            TANDA            1\n",
              "            TIASSALE         6\n",
              "            TIEBISSOU        1\n",
              "            TOUMODI          3\n",
              "            TREICHVILLE      5\n",
              "            YAMOUSSOUKRO     6\n",
              "dtype: int64"
            ]
          },
          "metadata": {
            "tags": []
          },
          "execution_count": 29
        }
      ]
    },
    {
      "cell_type": "code",
      "metadata": {
        "id": "D1V21Uc57fWf",
        "colab_type": "code",
        "outputId": "17719af5-fb19-4b88-c790-36ea588fedb2",
        "colab": {
          "base_uri": "https://localhost:8080/",
          "height": 383
        }
      },
      "source": [
        "\n",
        "import datetime\n",
        "\n",
        "business_hours =dataframe[(dataframe.datetime.dt.time >= datetime.time(9)) & (dataframe.datetime.dt.time <= datetime.time(17))]\n",
        "\n",
        "business_hours.head()"
      ],
      "execution_count": 0,
      "outputs": [
        {
          "output_type": "execute_result",
          "data": {
            "text/html": [
              "<div>\n",
              "<style scoped>\n",
              "    .dataframe tbody tr th:only-of-type {\n",
              "        vertical-align: middle;\n",
              "    }\n",
              "\n",
              "    .dataframe tbody tr th {\n",
              "        vertical-align: top;\n",
              "    }\n",
              "\n",
              "    .dataframe thead th {\n",
              "        text-align: right;\n",
              "    }\n",
              "</style>\n",
              "<table border=\"1\" class=\"dataframe\">\n",
              "  <thead>\n",
              "    <tr style=\"text-align: right;\">\n",
              "      <th></th>\n",
              "      <th>product</th>\n",
              "      <th>value</th>\n",
              "      <th>datetime</th>\n",
              "      <th>dw_a_number_int</th>\n",
              "      <th>dw_b_number_int</th>\n",
              "      <th>cell_id</th>\n",
              "      <th>villes</th>\n",
              "      <th>status</th>\n",
              "      <th>localisation</th>\n",
              "      <th>decoupzone</th>\n",
              "      <th>zonename</th>\n",
              "      <th>longitude</th>\n",
              "      <th>latitude</th>\n",
              "      <th>region</th>\n",
              "      <th>area</th>\n",
              "      <th>site_code</th>\n",
              "      <th>date</th>\n",
              "      <th>time</th>\n",
              "    </tr>\n",
              "  </thead>\n",
              "  <tbody>\n",
              "    <tr>\n",
              "      <th>3</th>\n",
              "      <td>Voice</td>\n",
              "      <td>0</td>\n",
              "      <td>2012-05-07 09:56:52</td>\n",
              "      <td>a5ff70730fe55d6</td>\n",
              "      <td>f34968a670b9422</td>\n",
              "      <td>f7f527c807</td>\n",
              "      <td>PLATEAU</td>\n",
              "      <td>In Service</td>\n",
              "      <td>ABIDJAN</td>\n",
              "      <td>Abidjan_CENTRE</td>\n",
              "      <td>ZONE A - Abidjan_CENTRE</td>\n",
              "      <td>-4.026139</td>\n",
              "      <td>5.32925</td>\n",
              "      <td>LAGUNE</td>\n",
              "      <td>ABIDJAN SOUTH</td>\n",
              "      <td>3e46cdd0e8</td>\n",
              "      <td>2012-05-07</td>\n",
              "      <td>09:56:52</td>\n",
              "    </tr>\n",
              "    <tr>\n",
              "      <th>10</th>\n",
              "      <td>Voice</td>\n",
              "      <td>0</td>\n",
              "      <td>2012-05-07 10:06:36</td>\n",
              "      <td>c3cf7cb638007ad</td>\n",
              "      <td>404ba3c13af0327</td>\n",
              "      <td>35e843a20a</td>\n",
              "      <td>TIASSALE</td>\n",
              "      <td>In Service</td>\n",
              "      <td>INTERIEUR</td>\n",
              "      <td>Grand-SUD</td>\n",
              "      <td>ZONE B - Grand-SUD</td>\n",
              "      <td>-4.824889</td>\n",
              "      <td>5.89525</td>\n",
              "      <td>LAGUNE</td>\n",
              "      <td>SOUTH WEST</td>\n",
              "      <td>78d279198d</td>\n",
              "      <td>2012-05-07</td>\n",
              "      <td>10:06:36</td>\n",
              "    </tr>\n",
              "    <tr>\n",
              "      <th>11</th>\n",
              "      <td>Voice</td>\n",
              "      <td>0</td>\n",
              "      <td>2012-05-07 10:06:52</td>\n",
              "      <td>c3cf7cb638007ad</td>\n",
              "      <td>404ba3c13af0327</td>\n",
              "      <td>35e843a20a</td>\n",
              "      <td>TIASSALE</td>\n",
              "      <td>In Service</td>\n",
              "      <td>INTERIEUR</td>\n",
              "      <td>Grand-SUD</td>\n",
              "      <td>ZONE B - Grand-SUD</td>\n",
              "      <td>-4.824889</td>\n",
              "      <td>5.89525</td>\n",
              "      <td>LAGUNE</td>\n",
              "      <td>SOUTH WEST</td>\n",
              "      <td>78d279198d</td>\n",
              "      <td>2012-05-07</td>\n",
              "      <td>10:06:52</td>\n",
              "    </tr>\n",
              "    <tr>\n",
              "      <th>12</th>\n",
              "      <td>Voice</td>\n",
              "      <td>0</td>\n",
              "      <td>2012-05-07 10:12:16</td>\n",
              "      <td>67af5d494d30293</td>\n",
              "      <td>404ba3c13af0327</td>\n",
              "      <td>35e843a20a</td>\n",
              "      <td>TIASSALE</td>\n",
              "      <td>In Service</td>\n",
              "      <td>INTERIEUR</td>\n",
              "      <td>Grand-SUD</td>\n",
              "      <td>ZONE B - Grand-SUD</td>\n",
              "      <td>-4.824889</td>\n",
              "      <td>5.89525</td>\n",
              "      <td>LAGUNE</td>\n",
              "      <td>SOUTH WEST</td>\n",
              "      <td>78d279198d</td>\n",
              "      <td>2012-05-07</td>\n",
              "      <td>10:12:16</td>\n",
              "    </tr>\n",
              "    <tr>\n",
              "      <th>13</th>\n",
              "      <td>Voice</td>\n",
              "      <td>0</td>\n",
              "      <td>2012-05-07 15:18:06</td>\n",
              "      <td>305fd482ce44296</td>\n",
              "      <td>720f314cf9b2292</td>\n",
              "      <td>35e843a20a</td>\n",
              "      <td>TIASSALE</td>\n",
              "      <td>In Service</td>\n",
              "      <td>INTERIEUR</td>\n",
              "      <td>Grand-SUD</td>\n",
              "      <td>ZONE B - Grand-SUD</td>\n",
              "      <td>-4.824889</td>\n",
              "      <td>5.89525</td>\n",
              "      <td>LAGUNE</td>\n",
              "      <td>SOUTH WEST</td>\n",
              "      <td>78d279198d</td>\n",
              "      <td>2012-05-07</td>\n",
              "      <td>15:18:06</td>\n",
              "    </tr>\n",
              "  </tbody>\n",
              "</table>\n",
              "</div>"
            ],
            "text/plain": [
              "   product  value            datetime  ...   site_code       date      time\n",
              "3    Voice      0 2012-05-07 09:56:52  ...  3e46cdd0e8 2012-05-07  09:56:52\n",
              "10   Voice      0 2012-05-07 10:06:36  ...  78d279198d 2012-05-07  10:06:36\n",
              "11   Voice      0 2012-05-07 10:06:52  ...  78d279198d 2012-05-07  10:06:52\n",
              "12   Voice      0 2012-05-07 10:12:16  ...  78d279198d 2012-05-07  10:12:16\n",
              "13   Voice      0 2012-05-07 15:18:06  ...  78d279198d 2012-05-07  15:18:06\n",
              "\n",
              "[5 rows x 18 columns]"
            ]
          },
          "metadata": {
            "tags": []
          },
          "execution_count": 30
        }
      ]
    },
    {
      "cell_type": "code",
      "metadata": {
        "id": "fcwxy6rTHFIe",
        "colab_type": "code",
        "outputId": "8ece89e0-a4bd-4ba6-a9d4-513a17eeccea",
        "colab": {
          "base_uri": "https://localhost:8080/",
          "height": 386
        }
      },
      "source": [
        "# Found cities which were used most during business hours from 9am to 5pm\n",
        "\n",
        "business_hours.groupby('villes')['villes'].count().sort_values(ascending = False)"
      ],
      "execution_count": 0,
      "outputs": [
        {
          "output_type": "execute_result",
          "data": {
            "text/plain": [
              "villes\n",
              "COCODY          93\n",
              "MARCORY         32\n",
              "TREICHVILLE     20\n",
              "YAMOUSSOUKRO    18\n",
              "PORT-BOUET      17\n",
              "ABOBO           15\n",
              "TIASSALE        15\n",
              "KOUMASSI        13\n",
              "ADJAME           6\n",
              "YOPOUGON         5\n",
              "SOUBRE           5\n",
              "PLATEAU          4\n",
              "ATTECOUBE        4\n",
              "SAN-PEDRO        3\n",
              "SONGON           3\n",
              "BINGERVILLE      3\n",
              "TANDA            1\n",
              "TIEBISSOU        1\n",
              "TOUMODI          1\n",
              "ABENGOUROU       1\n",
              "Name: villes, dtype: int64"
            ]
          },
          "metadata": {
            "tags": []
          },
          "execution_count": 31
        }
      ]
    },
    {
      "cell_type": "code",
      "metadata": {
        "id": "MkZDIbGEHaLU",
        "colab_type": "code",
        "outputId": "5543c046-615e-4de8-a3c3-60c5a69852f9",
        "colab": {
          "base_uri": "https://localhost:8080/",
          "height": 383
        }
      },
      "source": [
        "# cities which were used most during home hours, i.e 5pm to 9am\n",
        "\n",
        "home_hours =dataframe[~ ((dataframe.datetime.dt.time >= datetime.time(9)) & (dataframe.datetime.dt.time <= datetime.time(17)))]\n",
        "\n",
        "home_hours.head()"
      ],
      "execution_count": 0,
      "outputs": [
        {
          "output_type": "execute_result",
          "data": {
            "text/html": [
              "<div>\n",
              "<style scoped>\n",
              "    .dataframe tbody tr th:only-of-type {\n",
              "        vertical-align: middle;\n",
              "    }\n",
              "\n",
              "    .dataframe tbody tr th {\n",
              "        vertical-align: top;\n",
              "    }\n",
              "\n",
              "    .dataframe thead th {\n",
              "        text-align: right;\n",
              "    }\n",
              "</style>\n",
              "<table border=\"1\" class=\"dataframe\">\n",
              "  <thead>\n",
              "    <tr style=\"text-align: right;\">\n",
              "      <th></th>\n",
              "      <th>product</th>\n",
              "      <th>value</th>\n",
              "      <th>datetime</th>\n",
              "      <th>dw_a_number_int</th>\n",
              "      <th>dw_b_number_int</th>\n",
              "      <th>cell_id</th>\n",
              "      <th>villes</th>\n",
              "      <th>status</th>\n",
              "      <th>localisation</th>\n",
              "      <th>decoupzone</th>\n",
              "      <th>zonename</th>\n",
              "      <th>longitude</th>\n",
              "      <th>latitude</th>\n",
              "      <th>region</th>\n",
              "      <th>area</th>\n",
              "      <th>site_code</th>\n",
              "      <th>date</th>\n",
              "      <th>time</th>\n",
              "    </tr>\n",
              "  </thead>\n",
              "  <tbody>\n",
              "    <tr>\n",
              "      <th>0</th>\n",
              "      <td>Voice</td>\n",
              "      <td>0</td>\n",
              "      <td>2012-05-07 08:33:43</td>\n",
              "      <td>13d236932ae2bcf</td>\n",
              "      <td>662861c8d47acbb</td>\n",
              "      <td>1ce5a37ea9</td>\n",
              "      <td>ATTECOUBE</td>\n",
              "      <td>In Service</td>\n",
              "      <td>ABIDJAN</td>\n",
              "      <td>Abidjan_OUEST</td>\n",
              "      <td>ZONE C - Abidjan_OUEST</td>\n",
              "      <td>-4.035111</td>\n",
              "      <td>5.348917</td>\n",
              "      <td>LAGUNE</td>\n",
              "      <td>ABIDJAN NORTH</td>\n",
              "      <td>7f76d66503</td>\n",
              "      <td>2012-05-07</td>\n",
              "      <td>08:33:43</td>\n",
              "    </tr>\n",
              "    <tr>\n",
              "      <th>1</th>\n",
              "      <td>Voice</td>\n",
              "      <td>0</td>\n",
              "      <td>2012-05-07 08:36:17</td>\n",
              "      <td>704ad46f5623789</td>\n",
              "      <td>8788ee37020a0b3</td>\n",
              "      <td>24ced8b6ba</td>\n",
              "      <td>PORT-BOUET</td>\n",
              "      <td>In Service</td>\n",
              "      <td>ABIDJAN</td>\n",
              "      <td>Abidjan_SUD</td>\n",
              "      <td>ZONE D - Abidjan_SUD</td>\n",
              "      <td>-3.945028</td>\n",
              "      <td>5.254056</td>\n",
              "      <td>LAGUNE</td>\n",
              "      <td>ABIDJAN SOUTH</td>\n",
              "      <td>ffa6bdc032</td>\n",
              "      <td>2012-05-07</td>\n",
              "      <td>08:36:17</td>\n",
              "    </tr>\n",
              "    <tr>\n",
              "      <th>2</th>\n",
              "      <td>Voice</td>\n",
              "      <td>0</td>\n",
              "      <td>2012-05-07 08:37:47</td>\n",
              "      <td>de08884e7eb68a8</td>\n",
              "      <td>5a699ac9f644039</td>\n",
              "      <td>f7f527c807</td>\n",
              "      <td>PLATEAU</td>\n",
              "      <td>In Service</td>\n",
              "      <td>ABIDJAN</td>\n",
              "      <td>Abidjan_CENTRE</td>\n",
              "      <td>ZONE A - Abidjan_CENTRE</td>\n",
              "      <td>-4.026139</td>\n",
              "      <td>5.329250</td>\n",
              "      <td>LAGUNE</td>\n",
              "      <td>ABIDJAN SOUTH</td>\n",
              "      <td>3e46cdd0e8</td>\n",
              "      <td>2012-05-07</td>\n",
              "      <td>08:37:47</td>\n",
              "    </tr>\n",
              "    <tr>\n",
              "      <th>4</th>\n",
              "      <td>Voice</td>\n",
              "      <td>0</td>\n",
              "      <td>2012-05-07 20:17:41</td>\n",
              "      <td>4106e7c8e1bdc3c</td>\n",
              "      <td>87b5c66d514431b</td>\n",
              "      <td>f7f527c807</td>\n",
              "      <td>PLATEAU</td>\n",
              "      <td>In Service</td>\n",
              "      <td>ABIDJAN</td>\n",
              "      <td>Abidjan_CENTRE</td>\n",
              "      <td>ZONE A - Abidjan_CENTRE</td>\n",
              "      <td>-4.026139</td>\n",
              "      <td>5.329250</td>\n",
              "      <td>LAGUNE</td>\n",
              "      <td>ABIDJAN SOUTH</td>\n",
              "      <td>3e46cdd0e8</td>\n",
              "      <td>2012-05-07</td>\n",
              "      <td>20:17:41</td>\n",
              "    </tr>\n",
              "    <tr>\n",
              "      <th>5</th>\n",
              "      <td>Voice</td>\n",
              "      <td>0</td>\n",
              "      <td>2012-05-07 08:43:12</td>\n",
              "      <td>b7661c9ab690eb9</td>\n",
              "      <td>5a699ac9f644039</td>\n",
              "      <td>f859eee756</td>\n",
              "      <td>PLATEAU</td>\n",
              "      <td>In Service</td>\n",
              "      <td>ABIDJAN</td>\n",
              "      <td>Abidjan_CENTRE</td>\n",
              "      <td>ZONE A - Abidjan_CENTRE</td>\n",
              "      <td>-4.011861</td>\n",
              "      <td>5.320750</td>\n",
              "      <td>LAGUNE</td>\n",
              "      <td>ABIDJAN SOUTH</td>\n",
              "      <td>bea164ff9b</td>\n",
              "      <td>2012-05-07</td>\n",
              "      <td>08:43:12</td>\n",
              "    </tr>\n",
              "  </tbody>\n",
              "</table>\n",
              "</div>"
            ],
            "text/plain": [
              "  product  value            datetime  ...   site_code       date      time\n",
              "0   Voice      0 2012-05-07 08:33:43  ...  7f76d66503 2012-05-07  08:33:43\n",
              "1   Voice      0 2012-05-07 08:36:17  ...  ffa6bdc032 2012-05-07  08:36:17\n",
              "2   Voice      0 2012-05-07 08:37:47  ...  3e46cdd0e8 2012-05-07  08:37:47\n",
              "4   Voice      0 2012-05-07 20:17:41  ...  3e46cdd0e8 2012-05-07  20:17:41\n",
              "5   Voice      0 2012-05-07 08:43:12  ...  bea164ff9b 2012-05-07  08:43:12\n",
              "\n",
              "[5 rows x 18 columns]"
            ]
          },
          "metadata": {
            "tags": []
          },
          "execution_count": 32
        }
      ]
    },
    {
      "cell_type": "code",
      "metadata": {
        "id": "fuGBqPieLB7q",
        "colab_type": "code",
        "outputId": "236de51a-0b4b-4fe1-86c4-3caac4fa033e",
        "colab": {
          "base_uri": "https://localhost:8080/",
          "height": 336
        }
      },
      "source": [
        "# found cities which were used most during home hours from  5pm to 9am\n",
        "home_hours.groupby('villes')['villes'].count().sort_values(ascending = False)"
      ],
      "execution_count": 0,
      "outputs": [
        {
          "output_type": "execute_result",
          "data": {
            "text/plain": [
              "villes\n",
              "COCODY          35\n",
              "MARCORY         12\n",
              "TIASSALE        11\n",
              "ABOBO           10\n",
              "YAMOUSSOUKRO     9\n",
              "PLATEAU          7\n",
              "PORT-BOUET       7\n",
              "TREICHVILLE      6\n",
              "YOPOUGON         6\n",
              "SOUBRE           3\n",
              "TOUMODI          3\n",
              "ADJAME           2\n",
              "TANDA            1\n",
              "TIEBISSOU        1\n",
              "KOUMASSI         1\n",
              "GAGNOA           1\n",
              "ATTECOUBE        1\n",
              "Name: villes, dtype: int64"
            ]
          },
          "metadata": {
            "tags": []
          },
          "execution_count": 33
        }
      ]
    },
    {
      "cell_type": "code",
      "metadata": {
        "id": "oaU5RDFRBhrt",
        "colab_type": "code",
        "outputId": "53bc2d89-fd65-43a8-f98a-fcd6808644f0",
        "colab": {
          "base_uri": "https://localhost:8080/",
          "height": 403
        }
      },
      "source": [
        "# Most used city for the three days\n",
        "\n",
        "dataframe.groupby('villes')['villes'].count().sort_values(ascending = False)"
      ],
      "execution_count": 0,
      "outputs": [
        {
          "output_type": "execute_result",
          "data": {
            "text/plain": [
              "villes\n",
              "COCODY          128\n",
              "MARCORY          44\n",
              "YAMOUSSOUKRO     27\n",
              "TREICHVILLE      26\n",
              "TIASSALE         26\n",
              "ABOBO            25\n",
              "PORT-BOUET       24\n",
              "KOUMASSI         14\n",
              "PLATEAU          11\n",
              "YOPOUGON         11\n",
              "SOUBRE            8\n",
              "ADJAME            8\n",
              "ATTECOUBE         5\n",
              "TOUMODI           4\n",
              "SAN-PEDRO         3\n",
              "SONGON            3\n",
              "BINGERVILLE       3\n",
              "TANDA             2\n",
              "TIEBISSOU         2\n",
              "GAGNOA            1\n",
              "ABENGOUROU        1\n",
              "Name: villes, dtype: int64"
            ]
          },
          "metadata": {
            "tags": []
          },
          "execution_count": 34
        }
      ]
    },
    {
      "cell_type": "code",
      "metadata": {
        "id": "KI3Y-XNhOMT1",
        "colab_type": "code",
        "outputId": "408ce70e-b654-4541-d2a1-3cf8fa8c95fb",
        "colab": {
          "base_uri": "https://localhost:8080/",
          "height": 101
        }
      },
      "source": [
        "#Found the product which was used each and every day for the 3 days.\n",
        "\n",
        "dataframe.groupby(['date', 'product'])['product'].count().sort_values(ascending = False)"
      ],
      "execution_count": 0,
      "outputs": [
        {
          "output_type": "execute_result",
          "data": {
            "text/plain": [
              "date        product\n",
              "2012-05-07  Voice      176\n",
              "2012-05-08  Voice      101\n",
              "2012-05-09  Voice       99\n",
              "Name: product, dtype: int64"
            ]
          },
          "metadata": {
            "tags": []
          },
          "execution_count": 36
        }
      ]
    },
    {
      "cell_type": "code",
      "metadata": {
        "id": "yrBJKNdxOew2",
        "colab_type": "code",
        "outputId": "f929bd08-69cc-4e78-92c2-79ec6c909117",
        "colab": {
          "base_uri": "https://localhost:8080/",
          "height": 151
        }
      },
      "source": [
        "#Found the region which used our product the most and which product it was\n",
        "\n",
        "dataframe.groupby(['region', 'product'])['product'].count().sort_values(ascending = False)"
      ],
      "execution_count": 0,
      "outputs": [
        {
          "output_type": "execute_result",
          "data": {
            "text/plain": [
              "region         product\n",
              "LAGUNE         Voice      328\n",
              "LACS           Voice       33\n",
              "BAS SASSANDRA  Voice       11\n",
              "ZANZAN         Voice        2\n",
              "MOYEN COMOE    Voice        1\n",
              "FROMAGER       Voice        1\n",
              "Name: product, dtype: int64"
            ]
          },
          "metadata": {
            "tags": []
          },
          "execution_count": 37
        }
      ]
    },
    {
      "cell_type": "code",
      "metadata": {
        "id": "8Vuk75uRPpsW",
        "colab_type": "code",
        "outputId": "8c9e5e2c-0f04-455e-b1c1-98eed0e93893",
        "colab": {
          "base_uri": "https://localhost:8080/",
          "height": 134
        }
      },
      "source": [
        "#Found which area used our product the most and which product it was\n",
        "dataframe.groupby(['area', 'product'])['product'].count().sort_values(ascending = False)"
      ],
      "execution_count": 0,
      "outputs": [
        {
          "output_type": "execute_result",
          "data": {
            "text/plain": [
              "area           product\n",
              "ABIDJAN NORTH  Voice      183\n",
              "ABIDJAN SOUTH  Voice      119\n",
              "SOUTH WEST     Voice       38\n",
              "CENTRE NORTH   Voice       33\n",
              "EAST           Voice        3\n",
              "Name: product, dtype: int64"
            ]
          },
          "metadata": {
            "tags": []
          },
          "execution_count": 38
        }
      ]
    },
    {
      "cell_type": "code",
      "metadata": {
        "id": "UheZlnqEPphA",
        "colab_type": "code",
        "outputId": "f2446afb-bf75-4389-b60c-4492adfb5dfe",
        "colab": {
          "base_uri": "https://localhost:8080/",
          "height": 403
        }
      },
      "source": [
        "#Found which cities used our product the most.\n",
        "dataframe.groupby('villes')['villes'].count().sort_values(ascending = False).head()"
      ],
      "execution_count": 0,
      "outputs": [
        {
          "output_type": "execute_result",
          "data": {
            "text/plain": [
              "villes\n",
              "COCODY          128\n",
              "MARCORY          44\n",
              "YAMOUSSOUKRO     27\n",
              "TREICHVILLE      26\n",
              "TIASSALE         26\n",
              "ABOBO            25\n",
              "PORT-BOUET       24\n",
              "KOUMASSI         14\n",
              "PLATEAU          11\n",
              "YOPOUGON         11\n",
              "SOUBRE            8\n",
              "ADJAME            8\n",
              "ATTECOUBE         5\n",
              "TOUMODI           4\n",
              "SAN-PEDRO         3\n",
              "SONGON            3\n",
              "BINGERVILLE       3\n",
              "TANDA             2\n",
              "TIEBISSOU         2\n",
              "GAGNOA            1\n",
              "ABENGOUROU        1\n",
              "Name: villes, dtype: int64"
            ]
          },
          "metadata": {
            "tags": []
          },
          "execution_count": 67
        }
      ]
    }
  ]
}